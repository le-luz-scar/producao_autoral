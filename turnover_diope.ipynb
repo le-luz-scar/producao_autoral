{
 "cells": [
  {
   "cell_type": "code",
   "execution_count": 1,
   "metadata": {},
   "outputs": [],
   "source": [
    "import numpy as np\n",
    "import pandas as pd\n",
    "import plotly.express as px\n",
    "\n",
    "from sklearn.preprocessing import OneHotEncoder, OrdinalEncoder\n",
    "from sklearn.model_selection import train_test_split\n",
    "from sklearn.linear_model import LogisticRegression\n",
    "from sklearn import metrics\n",
    "from sklearn.metrics import accuracy_score\n",
    "from sklearn.ensemble import RandomForestClassifier\n",
    "from sklearn import svm"
   ]
  },
  {
   "cell_type": "code",
   "execution_count": 2,
   "metadata": {},
   "outputs": [],
   "source": [
    "# Carregando os dados\n",
    "salarios = pd.read_csv('salarios.csv', sep=';')\n",
    "vs_cad_basc = pd.read_csv('vs_cad_basc.csv',\n",
    "                            parse_dates=[9, 11, 12, 13, 14, 17],\n",
    "                            index_col=0,\n",
    "                            dtype={'SEXO' : 'category', 'EST_CIVIL' : 'category', 'GRAU_INSTR' : pd.CategoricalDtype(categories=['ENSINO FUNDAMENTAL', 'ENSINO MEDIO', 'SUPERIOR EM ANDAMENT', 'SUPERIOR GRADUACAO', 'POS-GRADUCAO-ESPEC', 'MESTRADO', 'DOUTORADO'], ordered=True)})\n",
    "hst_lczc_fun = pd.read_csv('hst_lczc_fun.csv', na_values=[\"9999-12-31\"], parse_dates=[2, 3, 5])\n",
    "hst_cmss_fuc_fun = pd.read_csv('hst_cmss_fuc_fun.csv', na_values=[\"9999-12-31\"], parse_dates=[2, 3, 5])\n",
    "cursos = pd.read_csv('cursos.csv', parse_dates=[4])\n",
    "eventos = pd.read_csv('Eventos.csv', sep=';')"
   ]
  },
  {
   "cell_type": "code",
   "execution_count": 3,
   "metadata": {},
   "outputs": [],
   "source": [
    "# Excluindo algumas colunas que não importam\n",
    "vs_cad_basc.drop(columns='DATA_NOMEACAO_215', inplace=True)\n",
    "salarios = salarios[['cod', 'vr']]"
   ]
  },
  {
   "cell_type": "code",
   "execution_count": 4,
   "metadata": {},
   "outputs": [
    {
     "data": {
      "text/plain": [
       "78"
      ]
     },
     "execution_count": 4,
     "metadata": {},
     "output_type": "execute_result"
    }
   ],
   "source": [
    "# Quantidade de pessoas que se desligaram do banco\n",
    "vs_cad_basc['INATIVIDADE_DT_215'].notna().sum()"
   ]
  },
  {
   "cell_type": "code",
   "execution_count": 5,
   "metadata": {},
   "outputs": [
    {
     "data": {
      "text/plain": [
       "127"
      ]
     },
     "execution_count": 5,
     "metadata": {},
     "output_type": "execute_result"
    }
   ],
   "source": [
    "# Quantidade de pessoas que sairam da Diope\n",
    "(vs_cad_basc['PREF_LOTACAO'] != '7551617774bcd665e4abe990db4f6f83').sum()"
   ]
  },
  {
   "cell_type": "code",
   "execution_count": 6,
   "metadata": {},
   "outputs": [],
   "source": [
    "# Cria a coluna para indicar se o funcionário saiu do banco ou do departamento\n",
    "vs_cad_basc['SAIU'] = vs_cad_basc.apply(lambda x : 1 if (pd.notna(x['INATIVIDADE_DT_215'])) | (x['PREF_LOTACAO'] != '7551617774bcd665e4abe990db4f6f83') else 0, axis = 1)"
   ]
  },
  {
   "cell_type": "code",
   "execution_count": 7,
   "metadata": {},
   "outputs": [
    {
     "data": {
      "text/plain": [
       "0    277\n",
       "1    194\n",
       "Name: SAIU, dtype: int64"
      ]
     },
     "execution_count": 7,
     "metadata": {},
     "output_type": "execute_result"
    }
   ],
   "source": [
    "# Visualisa as quantidades\n",
    "vs_cad_basc['SAIU'].value_counts()"
   ]
  },
  {
   "cell_type": "code",
   "execution_count": 8,
   "metadata": {},
   "outputs": [],
   "source": [
    "# Lista de funcionários que saíram\n",
    "saiu = vs_cad_basc.index[vs_cad_basc['SAIU'] == 1]"
   ]
  },
  {
   "cell_type": "code",
   "execution_count": 9,
   "metadata": {},
   "outputs": [
    {
     "data": {
      "text/html": [
       "<div>\n",
       "<style scoped>\n",
       "    .dataframe tbody tr th:only-of-type {\n",
       "        vertical-align: middle;\n",
       "    }\n",
       "\n",
       "    .dataframe tbody tr th {\n",
       "        vertical-align: top;\n",
       "    }\n",
       "\n",
       "    .dataframe thead th {\n",
       "        text-align: right;\n",
       "    }\n",
       "</style>\n",
       "<table border=\"1\" class=\"dataframe\">\n",
       "  <thead>\n",
       "    <tr style=\"text-align: right;\">\n",
       "      <th></th>\n",
       "      <th>CD_TIP_EVT</th>\n",
       "      <th>TIP_EVT</th>\n",
       "    </tr>\n",
       "  </thead>\n",
       "  <tbody>\n",
       "    <tr>\n",
       "      <th>14</th>\n",
       "      <td>140</td>\n",
       "      <td>REMOCAO - COM DESPACHO</td>\n",
       "    </tr>\n",
       "    <tr>\n",
       "      <th>18</th>\n",
       "      <td>144</td>\n",
       "      <td>REMOCAO-UNIF/DESMEMB/REESTRURACAO PREFIXO</td>\n",
       "    </tr>\n",
       "    <tr>\n",
       "      <th>27</th>\n",
       "      <td>153</td>\n",
       "      <td>ADICAO NO INTERESSE DO SERVICO</td>\n",
       "    </tr>\n",
       "    <tr>\n",
       "      <th>29</th>\n",
       "      <td>155</td>\n",
       "      <td>RETORNO DE ADICAO</td>\n",
       "    </tr>\n",
       "    <tr>\n",
       "      <th>33</th>\n",
       "      <td>159</td>\n",
       "      <td>RETORNO COLABORADOR DA DG</td>\n",
       "    </tr>\n",
       "    <tr>\n",
       "      <th>48</th>\n",
       "      <td>176</td>\n",
       "      <td>COMPOSICAO TEMPORARIA DE EQUIPE</td>\n",
       "    </tr>\n",
       "    <tr>\n",
       "      <th>74</th>\n",
       "      <td>250</td>\n",
       "      <td>RELOCALIZACAO SEM COMISSAO</td>\n",
       "    </tr>\n",
       "    <tr>\n",
       "      <th>75</th>\n",
       "      <td>251</td>\n",
       "      <td>RELOCALIZACAO COM COMISSAO</td>\n",
       "    </tr>\n",
       "    <tr>\n",
       "      <th>81</th>\n",
       "      <td>305</td>\n",
       "      <td>NOMEACAO - ALCADA DA DG - C/ALT. DE DE</td>\n",
       "    </tr>\n",
       "    <tr>\n",
       "      <th>87</th>\n",
       "      <td>311</td>\n",
       "      <td>COMISSIONAMENTO - ALCADA DIPES/GEPES</td>\n",
       "    </tr>\n",
       "    <tr>\n",
       "      <th>89</th>\n",
       "      <td>313</td>\n",
       "      <td>COMISSIONAMENTO - REESTRUTRACAO DE PREFIXO</td>\n",
       "    </tr>\n",
       "    <tr>\n",
       "      <th>92</th>\n",
       "      <td>316</td>\n",
       "      <td>MOVIMENTACAO REORGANIZACAO</td>\n",
       "    </tr>\n",
       "    <tr>\n",
       "      <th>99</th>\n",
       "      <td>324</td>\n",
       "      <td>MOV.INTERNA (MESMA FUNCAO)</td>\n",
       "    </tr>\n",
       "  </tbody>\n",
       "</table>\n",
       "</div>"
      ],
      "text/plain": [
       "    CD_TIP_EVT                                     TIP_EVT\n",
       "14         140                      REMOCAO - COM DESPACHO\n",
       "18         144   REMOCAO-UNIF/DESMEMB/REESTRURACAO PREFIXO\n",
       "27         153              ADICAO NO INTERESSE DO SERVICO\n",
       "29         155                           RETORNO DE ADICAO\n",
       "33         159                   RETORNO COLABORADOR DA DG\n",
       "48         176             COMPOSICAO TEMPORARIA DE EQUIPE\n",
       "74         250                  RELOCALIZACAO SEM COMISSAO\n",
       "75         251                  RELOCALIZACAO COM COMISSAO\n",
       "81         305      NOMEACAO - ALCADA DA DG - C/ALT. DE DE\n",
       "87         311        COMISSIONAMENTO - ALCADA DIPES/GEPES\n",
       "89         313  COMISSIONAMENTO - REESTRUTRACAO DE PREFIXO\n",
       "92         316                  MOVIMENTACAO REORGANIZACAO\n",
       "99         324                  MOV.INTERNA (MESMA FUNCAO)"
      ]
     },
     "execution_count": 9,
     "metadata": {},
     "output_type": "execute_result"
    }
   ],
   "source": [
    "# Registro de movimentação dos funcionários que saíram e vemos os eventos que origiraram a entrada deles nos departamento\n",
    "movimentacao = hst_lczc_fun[(hst_lczc_fun['MATRICULA'].isin(saiu)) &\n",
    "                            (hst_lczc_fun['CD_PRF_DEPE_LCZC'] == '7551617774bcd665e4abe990db4f6f83')]\n",
    "eventos_unicos = movimentacao['CD_TIP_EVT'].unique()\n",
    "# Lista de eventos únicos\n",
    "eventos[eventos['CD_TIP_EVT'].isin(eventos_unicos)]"
   ]
  },
  {
   "cell_type": "code",
   "execution_count": 10,
   "metadata": {},
   "outputs": [
    {
     "data": {
      "text/plain": [
       "MATRICULA\n",
       "00e510ffcd436a7f1a41d8547fa2a10d   2017-07-02\n",
       "0131cb0ab3a6b2d184c3e72acc47ff02   2020-03-17\n",
       "014ced666b77b2f41f904f3395a38b6e   2018-10-07\n",
       "02d3df5a38ecda03effbccdbcea229d4   2018-03-28\n",
       "08b23fb78a98391ec4d3490f6493a265   2019-02-07\n",
       "                                      ...    \n",
       "f9460781684aa2475473f7456b78450c   2018-02-13\n",
       "f9626f892ca87baa2174b262d2c7693d   2021-05-11\n",
       "fabf5d60f3d0578a4249ef2ba597940f   2018-03-11\n",
       "fb2c79458d4f815af0ec186297331a69   2020-01-12\n",
       "fd93f0be729780f12f96a5ff49aa4f29   2018-01-07\n",
       "Name: DT_SAIDA, Length: 194, dtype: datetime64[ns]"
      ]
     },
     "execution_count": 10,
     "metadata": {},
     "output_type": "execute_result"
    }
   ],
   "source": [
    "# Excluimos os eventos temporários [153, 176]\n",
    "movimentacao = movimentacao[~movimentacao['CD_TIP_EVT'].isin([153, 176])]\n",
    "# Vemos a data de saída deles do departamento\n",
    "saida = movimentacao.groupby('MATRICULA')['DT_FIM_LCZC_FUN'].max()\n",
    "saida.rename('DT_SAIDA', inplace=True)"
   ]
  },
  {
   "cell_type": "code",
   "execution_count": 11,
   "metadata": {},
   "outputs": [],
   "source": [
    "# Criando uma coluna no vs_cad_basc com a data de saída do funcionário do departamento\n",
    "vs_cad_basc = vs_cad_basc.merge(saida, how='left', on='MATRICULA')"
   ]
  },
  {
   "cell_type": "code",
   "execution_count": 12,
   "metadata": {},
   "outputs": [],
   "source": [
    "# Vamos ver a quantidade de cursos que o funcionário fez durante o período dele no departamento\n",
    "\n",
    "#Substituindo os NaT (funcionários qua ainda não sairam) por uma data recente\n",
    "dt_saida = vs_cad_basc['DT_SAIDA'].replace({pd.NaT : '2022-10-30'})\n",
    "\n",
    "# Colocando a data de saída no dataframe\n",
    "cursos = cursos.merge(dt_saida, how='left', left_on='matricula', right_on='MATRICULA')"
   ]
  },
  {
   "cell_type": "code",
   "execution_count": 13,
   "metadata": {},
   "outputs": [],
   "source": [
    "# Só nos interessa os cursos que o funcionário fez até a data de saída dele\n",
    "cursos = cursos[cursos['DT_FIM_CSO'] <= cursos['DT_SAIDA']]\n",
    "\n",
    "# Excluindo as colunas que não interessam e renomeando.\n",
    "cursos.drop(columns=['NM_CSO', 'CD_CNH_CSO', 'DT_FIM_CSO', 'DT_SAIDA'], inplace=True)\n",
    "cursos.rename(columns={'CD_CSO' : 'QTDE_CSO', 'matricula' : 'MATRICULA'}, inplace=True)\n",
    "\n",
    "# Vamos saber a quantiodade de curso que cada matrícula fez\n",
    "cursos = cursos.groupby('MATRICULA').count()\n"
   ]
  },
  {
   "cell_type": "code",
   "execution_count": 14,
   "metadata": {},
   "outputs": [],
   "source": [
    "vs_cad_basc = vs_cad_basc.merge(cursos, how='left', left_index=True, right_index=True)"
   ]
  },
  {
   "cell_type": "code",
   "execution_count": 15,
   "metadata": {},
   "outputs": [],
   "source": [
    "# Vamos transformar a quantidade de curso em uma variável categórica\n",
    "classes = [0, 100, 200, 300, 400, 1000]\n",
    "labels = ['até 100', '100 a 200', '200 a 300', '300 a 400', '+ de 400']\n",
    "\n",
    "vs_cad_basc['FAIXA_QTDE_CSO'] = pd.cut(vs_cad_basc['QTDE_CSO'], classes, labels=labels)"
   ]
  },
  {
   "cell_type": "code",
   "execution_count": 16,
   "metadata": {},
   "outputs": [],
   "source": [
    "# Vamos criar uma váriavel para a geração (baseado na data de nascimento) do funcionário\n",
    "classes = [0, 1965, 1980, 1996]\n",
    "labels = ['Baby Boomer', 'X', 'Millennials']\n",
    "vs_cad_basc['GERACAO'] = pd.cut(vs_cad_basc['NASC_DT_215'].dt.year, classes, labels=labels)"
   ]
  },
  {
   "cell_type": "code",
   "execution_count": 17,
   "metadata": {},
   "outputs": [],
   "source": [
    "# Vamos ver o salário médio PONDERADO pela quantidade de dias que o funionário ganhou desde 2017\n",
    "y = hst_cmss_fuc_fun.set_index('MATRICULA')\n",
    "y['DT_FIM_CMSS_FUN'].replace({pd.NaT : '2022-10-30'}, inplace=True)\n",
    "y = y.merge(dt_saida, how='left', left_index=True, right_index=True)\n",
    "\n",
    "#comissoes = y[(y['DT_FIM_CMSS_FUN'] <= y['DT_SAIDA']) & (y['DT_INC_CMSS_FUN'] >= '2017-01-01')]\n",
    "comissoes = y[(y['DT_FIM_CMSS_FUN'] <= y['DT_SAIDA'])]\n",
    "comissoes = comissoes.join(salarios.set_index('cod'), on='CD_TIP_CMSS_FUC')\n",
    "# Vemos a quantidade de dias que cada matrícula ficou na comissão\n",
    "comissoes['QTDE_DIAS_CMSS'] = comissoes['DT_FIM_CMSS_FUN'] - comissoes['DT_INC_CMSS_FUN']\n",
    "# Calculando a média ponderada do salário\n",
    "salario_pond = comissoes.groupby('MATRICULA').apply(lambda x : np.average(x['vr'], weights=x['QTDE_DIAS_CMSS'].dt.days))\n",
    "salario_pond.rename('SALARIO_MEDIO', inplace=True)\n",
    "\n",
    "vs_cad_basc = vs_cad_basc.join(salario_pond)"
   ]
  },
  {
   "cell_type": "code",
   "execution_count": 18,
   "metadata": {},
   "outputs": [],
   "source": [
    "# Vamos deixar apenas as colunas relevantes\n",
    "vs_cad_basc = vs_cad_basc[['EST_CIVIL', 'SEXO', 'GERACAO', 'GRAU_INSTR', 'FAIXA_QTDE_CSO', 'SALARIO_MEDIO', 'SAIU']]"
   ]
  },
  {
   "cell_type": "code",
   "execution_count": 19,
   "metadata": {},
   "outputs": [
    {
     "data": {
      "application/vnd.plotly.v1+json": {
       "config": {
        "plotlyServerURL": "https://plot.ly"
       },
       "data": [
        {
         "alignmentgroup": "True",
         "bingroup": "x",
         "hovertemplate": "SAIU=1<br>EST_CIVIL=%{x}<br>count=%{y}<extra></extra>",
         "legendgroup": "1",
         "marker": {
          "color": "#636efa",
          "pattern": {
           "shape": ""
          }
         },
         "name": "1",
         "offsetgroup": "1",
         "orientation": "v",
         "showlegend": true,
         "texttemplate": "%{value}",
         "type": "histogram",
         "x": [
          "CASADO(A)",
          "SOLTEIRO(A)",
          "CASADO(A)",
          "CASADO(A) COM FUNCIO",
          "SOLTEIRO(A)",
          "CASADO(A)",
          "CASADO(A)",
          "SOLTEIRO(A)",
          "DIVORCIADO(A)",
          "DIVORCIADO(A)",
          "CASADO(A) COM FUNCIO",
          "DIVORCIADO(A)",
          "SOLTEIRO(A)",
          "SOLTEIRO(A)",
          "SOLTEIRO(A)",
          "CASADO(A)",
          "CASADO(A) COM FUNCIO",
          "CASADO(A)",
          "CASADO(A)",
          "VIUVO(A)",
          "CASADO(A)",
          "CASADO(A)",
          "CASADO(A)",
          "CASADO(A)",
          "CASADO(A)",
          "CASADO(A)",
          "CASADO(A)",
          "CASADO(A)",
          "SOLTEIRO(A)",
          "SOLTEIRO(A)",
          "CASADO(A) COM FUNCIO",
          "DIVORCIADO(A)",
          "SOLTEIRO(A)",
          "SOLTEIRO(A)",
          "CASADO(A)",
          "CASADO(A)",
          "CASADO(A)",
          "DIVORCIADO(A)",
          "DIVORCIADO(A)",
          "CASADO(A)",
          "SOLTEIRO(A)",
          "SOLTEIRO(A)",
          "CASADO(A)",
          "DIVORCIADO(A)",
          "CASADO(A)",
          "DIVORCIADO(A)",
          "SOLTEIRO(A)",
          "SOLTEIRO(A)",
          "SOLTEIRO(A)",
          "DIVORCIADO(A)",
          "SOLTEIRO(A)",
          "SOLTEIRO(A)",
          "SOLTEIRO(A)",
          "CASADO(A) COM FUNCIO",
          "CASADO(A)",
          "DIVORCIADO(A)",
          "CASADO(A)",
          "CASADO(A)",
          "SOLTEIRO(A)",
          "CASADO(A)",
          "SOLTEIRO(A)",
          "DIVORCIADO(A)",
          "DIVORCIADO(A)",
          "CASADO(A)",
          "CASADO(A)",
          "CASADO(A)",
          "CASADO(A)",
          "SOLTEIRO(A)",
          "CASADO(A)",
          "CASADO(A)",
          "CASADO(A)",
          "CASADO(A)",
          "SOLTEIRO(A)",
          "CASADO(A)",
          "CASADO(A)",
          "CASADO(A)",
          "SOLTEIRO(A)",
          "CASADO(A) COM FUNCIO",
          "CASADO(A)",
          "CASADO(A) COM FUNCIO",
          "DIVORCIADO(A)",
          "DIVORCIADO(A)",
          "SOLTEIRO(A)",
          "SOLTEIRO(A)",
          "CASADO(A)",
          "SOLTEIRO(A)",
          "CASADO(A) COM FUNCIO",
          "SEPARADO(A) JUDICIAL",
          "CASADO(A)",
          "CASADO(A)",
          "CASADO(A)",
          "CASADO(A)",
          "CASADO(A)",
          "CASADO(A)",
          "CASADO(A)",
          "CASADO(A)",
          "SOLTEIRO(A)",
          "CASADO(A)",
          "CASADO(A)",
          "CASADO(A)",
          "CASADO(A) COM FUNCIO",
          "DIVORCIADO(A)",
          "SOLTEIRO(A)",
          "SOLTEIRO(A)",
          "CASADO(A)",
          "SOLTEIRO(A)",
          "CASADO(A)",
          "CASADO(A)",
          "SOLTEIRO(A)",
          "CASADO(A)",
          "CASADO(A)",
          "CASADO(A)",
          "CASADO(A) COM FUNCIO",
          "CASADO(A) COM FUNCIO",
          "DIVORCIADO(A)",
          "CASADO(A) COM FUNCIO",
          "DIVORCIADO(A)",
          "DIVORCIADO(A)",
          "DIVORCIADO(A)",
          "DIVORCIADO(A)",
          "SOLTEIRO(A)",
          "SOLTEIRO(A)",
          "CASADO(A)",
          "SOLTEIRO(A)",
          "CASADO(A) COM FUNCIO",
          "SOLTEIRO(A)",
          "CASADO(A)",
          "SOLTEIRO(A)",
          "SOLTEIRO(A)",
          "SOLTEIRO(A)",
          "SOLTEIRO(A)",
          "SOLTEIRO(A)",
          "CASADO(A)",
          "CASADO(A)",
          "CASADO(A)",
          "CASADO(A)",
          "CASADO(A)",
          "CASADO(A)",
          "CASADO(A) COM FUNCIO",
          "CASADO(A)",
          "CASADO(A)",
          "CASADO(A) COM FUNCIO",
          "CASADO(A) COM FUNCIO",
          "SOLTEIRO(A)",
          "SOLTEIRO(A)",
          "SOLTEIRO(A)",
          "SOLTEIRO(A)",
          "SOLTEIRO(A)",
          "CASADO(A)",
          "CASADO(A)",
          "CASADO(A)",
          "SEPARADO(A) JUDICIAL",
          "CASADO(A)",
          "CASADO(A)",
          "CASADO(A)",
          "SOLTEIRO(A)",
          "SOLTEIRO(A)",
          "SEPARADO(A) JUDICIAL",
          "SOLTEIRO(A)",
          "DIVORCIADO(A)",
          "SOLTEIRO(A)",
          "CASADO(A) COM FUNCIO",
          "CASADO(A)",
          "SEPARADO(A) JUDICIAL",
          "CASADO(A)",
          "CASADO(A) COM FUNCIO",
          "CASADO(A)",
          "SOLTEIRO(A)",
          "CASADO(A)",
          "SOLTEIRO(A)",
          "VIUVO(A)",
          "VIUVO(A)",
          "CASADO(A)",
          "CASADO(A)",
          "CASADO(A)",
          "DIVORCIADO(A)",
          "SOLTEIRO(A)",
          "CASADO(A)",
          "CASADO(A)",
          "CASADO(A)",
          "CASADO(A)",
          "CASADO(A)",
          "SOLTEIRO(A)",
          "SOLTEIRO(A)",
          "CASADO(A) COM FUNCIO",
          "CASADO(A)",
          "CASADO(A) COM FUNCIO",
          "CASADO(A)",
          "CASADO(A)",
          "CASADO(A) COM FUNCIO",
          "CASADO(A)",
          "CASADO(A) COM FUNCIO",
          "CASADO(A)",
          "CASADO(A)"
         ],
         "xaxis": "x",
         "yaxis": "y"
        },
        {
         "alignmentgroup": "True",
         "bingroup": "x",
         "hovertemplate": "SAIU=0<br>EST_CIVIL=%{x}<br>count=%{y}<extra></extra>",
         "legendgroup": "0",
         "marker": {
          "color": "#EF553B",
          "pattern": {
           "shape": ""
          }
         },
         "name": "0",
         "offsetgroup": "0",
         "orientation": "v",
         "showlegend": true,
         "texttemplate": "%{value}",
         "type": "histogram",
         "x": [
          "CASADO(A)",
          "CASADO(A)",
          "CASADO(A)",
          "SOLTEIRO(A)",
          "SOLTEIRO(A)",
          "DIVORCIADO(A)",
          "CASADO(A)",
          "SOLTEIRO(A)",
          "DIVORCIADO(A)",
          "CASADO(A)",
          "CASADO(A) COM FUNCIO",
          "SOLTEIRO(A)",
          "CASADO(A) COM FUNCIO",
          "SOLTEIRO(A)",
          "SOLTEIRO(A)",
          "CASADO(A)",
          "SOLTEIRO(A)",
          "CASADO(A)",
          "SOLTEIRO(A)",
          "SOLTEIRO(A)",
          "SOLTEIRO(A)",
          "CASADO(A) COM FUNCIO",
          "SOLTEIRO(A)",
          "CASADO(A)",
          "CASADO(A) COM FUNCIO",
          "SOLTEIRO(A)",
          "CASADO(A)",
          "CASADO(A)",
          "CASADO(A)",
          "CASADO(A)",
          "SOLTEIRO(A)",
          "SOLTEIRO(A)",
          "SOLTEIRO(A)",
          "CASADO(A)",
          "CASADO(A) COM FUNCIO",
          "SOLTEIRO(A)",
          "CASADO(A)",
          "CASADO(A) COM FUNCIO",
          "CASADO(A) COM FUNCIO",
          "CASADO(A)",
          "CASADO(A) COM FUNCIO",
          "CASADO(A) COM FUNCIO",
          "CASADO(A)",
          "CASADO(A)",
          "CASADO(A)",
          "SOLTEIRO(A)",
          "CASADO(A) COM FUNCIO",
          "SOLTEIRO(A)",
          "SOLTEIRO(A)",
          "SOLTEIRO(A)",
          "SOLTEIRO(A)",
          "DIVORCIADO(A)",
          "CASADO(A)",
          "SOLTEIRO(A)",
          "VIUVO(A)",
          "CASADO(A)",
          "SOLTEIRO(A)",
          "CASADO(A) COM FUNCIO",
          "CASADO(A) COM FUNCIO",
          "SOLTEIRO(A)",
          "CASADO(A) COM FUNCIO",
          "CASADO(A)",
          "CASADO(A)",
          "CASADO(A) COM FUNCIO",
          "CASADO(A) COM FUNCIO",
          "SOLTEIRO(A)",
          "CASADO(A)",
          "SOLTEIRO(A)",
          "SOLTEIRO(A)",
          "CASADO(A)",
          "CASADO(A) COM FUNCIO",
          "CASADO(A) COM FUNCIO",
          "SOLTEIRO(A)",
          "SOLTEIRO(A)",
          "SOLTEIRO(A)",
          "CASADO(A)",
          "CASADO(A)",
          "CASADO(A) COM FUNCIO",
          "SOLTEIRO(A)",
          "SOLTEIRO(A)",
          "CASADO(A)",
          "CASADO(A)",
          "CASADO(A)",
          "CASADO(A)",
          "CASADO(A)",
          "CASADO(A)",
          "CASADO(A) COM FUNCIO",
          "CASADO(A)",
          "CASADO(A)",
          "SOLTEIRO(A)",
          "CASADO(A)",
          "SOLTEIRO(A)",
          "CASADO(A)",
          "CASADO(A)",
          "SOLTEIRO(A)",
          "CASADO(A) COM FUNCIO",
          "DIVORCIADO(A)",
          "CASADO(A)",
          "CASADO(A)",
          "DIVORCIADO(A)",
          "CASADO(A)",
          "CASADO(A)",
          "CASADO(A)",
          "CASADO(A)",
          "CASADO(A)",
          "CASADO(A)",
          "SOLTEIRO(A)",
          "CASADO(A)",
          "CASADO(A)",
          "DIVORCIADO(A)",
          "SOLTEIRO(A)",
          "CASADO(A)",
          "CASADO(A)",
          "VIUVO(A)",
          "SOLTEIRO(A)",
          "CASADO(A)",
          "SOLTEIRO(A)",
          "SOLTEIRO(A)",
          "SOLTEIRO(A)",
          "SOLTEIRO(A)",
          "CASADO(A)",
          "CASADO(A)",
          "CASADO(A) COM FUNCIO",
          "CASADO(A) COM FUNCIO",
          "SOLTEIRO(A)",
          "SOLTEIRO(A)",
          "DIVORCIADO(A)",
          "CASADO(A)",
          "CASADO(A)",
          "CASADO(A)",
          "SOLTEIRO(A)",
          "CASADO(A) COM FUNCIO",
          "CASADO(A)",
          "CASADO(A)",
          "CASADO(A)",
          "SOLTEIRO(A)",
          "CASADO(A)",
          "SOLTEIRO(A)",
          "DIVORCIADO(A)",
          "CASADO(A)",
          "CASADO(A)",
          "CASADO(A)",
          "CASADO(A) COM FUNCIO",
          "CASADO(A)",
          "CASADO(A)",
          "CASADO(A) COM FUNCIO",
          "CASADO(A) COM FUNCIO",
          "SOLTEIRO(A)",
          "CASADO(A)",
          "CASADO(A) COM FUNCIO",
          "DIVORCIADO(A)",
          "SOLTEIRO(A)",
          "SOLTEIRO(A)",
          "SOLTEIRO(A)",
          "DIVORCIADO(A)",
          "DIVORCIADO(A)",
          "SOLTEIRO(A)",
          "CASADO(A)",
          "CASADO(A)",
          "CASADO(A)",
          "SOLTEIRO(A)",
          "SOLTEIRO(A)",
          "SOLTEIRO(A)",
          "CASADO(A) COM FUNCIO",
          "CASADO(A)",
          "CASADO(A)",
          "CASADO(A)",
          "CASADO(A)",
          "CASADO(A)",
          "DIVORCIADO(A)",
          "CASADO(A) COM FUNCIO",
          "CASADO(A)",
          "SOLTEIRO(A)",
          "CASADO(A)",
          "DIVORCIADO(A)",
          "CASADO(A)",
          "CASADO(A)",
          "CASADO(A)",
          "CASADO(A)",
          "SOLTEIRO(A)",
          "CASADO(A) COM FUNCIO",
          "DIVORCIADO(A)",
          "CASADO(A)",
          "CASADO(A)",
          "SOLTEIRO(A)",
          "SOLTEIRO(A)",
          "SOLTEIRO(A)",
          "CASADO(A) COM FUNCIO",
          "SOLTEIRO(A)",
          "CASADO(A)",
          "CASADO(A)",
          "VIUVO(A)",
          "CASADO(A)",
          "SOLTEIRO(A)",
          "CASADO(A)",
          "DIVORCIADO(A)",
          "SOLTEIRO(A)",
          "SOLTEIRO(A)",
          "CASADO(A) COM FUNCIO",
          "CASADO(A) COM FUNCIO",
          "SOLTEIRO(A)",
          "SOLTEIRO(A)",
          "CASADO(A)",
          "SOLTEIRO(A)",
          "SOLTEIRO(A)",
          "SOLTEIRO(A)",
          "SOLTEIRO(A)",
          "CASADO(A)",
          "DIVORCIADO(A)",
          "CASADO(A)",
          "CASADO(A) COM FUNCIO",
          "CASADO(A)",
          "DIVORCIADO(A)",
          "SOLTEIRO(A)",
          "CASADO(A)",
          "SOLTEIRO(A)",
          "CASADO(A)",
          "SOLTEIRO(A)",
          "DIVORCIADO(A)",
          "CASADO(A)",
          "DIVORCIADO(A)",
          "CASADO(A) COM FUNCIO",
          "SOLTEIRO(A)",
          "CASADO(A) COM FUNCIO",
          "CASADO(A)",
          "CASADO(A)",
          "CASADO(A)",
          "DIVORCIADO(A)",
          "SOLTEIRO(A)",
          "SOLTEIRO(A)",
          "SOLTEIRO(A)",
          "SOLTEIRO(A)",
          "CASADO(A)",
          "CASADO(A) COM FUNCIO",
          "CASADO(A)",
          "CASADO(A)",
          "SOLTEIRO(A)",
          "CASADO(A)",
          "CASADO(A)",
          "CASADO(A)",
          "CASADO(A) COM FUNCIO",
          "CASADO(A)",
          "CASADO(A) COM FUNCIO",
          "CASADO(A)",
          "CASADO(A) COM FUNCIO",
          "CASADO(A) COM FUNCIO",
          "CASADO(A)",
          "CASADO(A)",
          "CASADO(A)",
          "CASADO(A)",
          "DIVORCIADO(A)",
          "VIUVO(A)",
          "SOLTEIRO(A)",
          "CASADO(A)",
          "SOLTEIRO(A)",
          "SOLTEIRO(A)",
          "SOLTEIRO(A)",
          "SOLTEIRO(A)",
          "CASADO(A) COM FUNCIO",
          "CASADO(A)",
          "CASADO(A)",
          "CASADO(A) COM FUNCIO",
          "SOLTEIRO(A)",
          "SOLTEIRO(A)",
          "SOLTEIRO(A)",
          "CASADO(A)",
          "CASADO(A)",
          "CASADO(A)",
          "DIVORCIADO(A)",
          "CASADO(A)",
          "CASADO(A) COM FUNCIO",
          "CASADO(A)",
          "SOLTEIRO(A)",
          "CASADO(A)",
          "CASADO(A)",
          "CASADO(A)",
          "SOLTEIRO(A)"
         ],
         "xaxis": "x",
         "yaxis": "y"
        }
       ],
       "layout": {
        "barmode": "relative",
        "legend": {
         "title": {
          "text": "SAIU"
         },
         "tracegroupgap": 0
        },
        "margin": {
         "t": 60
        },
        "template": {
         "data": {
          "bar": [
           {
            "error_x": {
             "color": "#2a3f5f"
            },
            "error_y": {
             "color": "#2a3f5f"
            },
            "marker": {
             "line": {
              "color": "#E5ECF6",
              "width": 0.5
             },
             "pattern": {
              "fillmode": "overlay",
              "size": 10,
              "solidity": 0.2
             }
            },
            "type": "bar"
           }
          ],
          "barpolar": [
           {
            "marker": {
             "line": {
              "color": "#E5ECF6",
              "width": 0.5
             },
             "pattern": {
              "fillmode": "overlay",
              "size": 10,
              "solidity": 0.2
             }
            },
            "type": "barpolar"
           }
          ],
          "carpet": [
           {
            "aaxis": {
             "endlinecolor": "#2a3f5f",
             "gridcolor": "white",
             "linecolor": "white",
             "minorgridcolor": "white",
             "startlinecolor": "#2a3f5f"
            },
            "baxis": {
             "endlinecolor": "#2a3f5f",
             "gridcolor": "white",
             "linecolor": "white",
             "minorgridcolor": "white",
             "startlinecolor": "#2a3f5f"
            },
            "type": "carpet"
           }
          ],
          "choropleth": [
           {
            "colorbar": {
             "outlinewidth": 0,
             "ticks": ""
            },
            "type": "choropleth"
           }
          ],
          "contour": [
           {
            "colorbar": {
             "outlinewidth": 0,
             "ticks": ""
            },
            "colorscale": [
             [
              0,
              "#0d0887"
             ],
             [
              0.1111111111111111,
              "#46039f"
             ],
             [
              0.2222222222222222,
              "#7201a8"
             ],
             [
              0.3333333333333333,
              "#9c179e"
             ],
             [
              0.4444444444444444,
              "#bd3786"
             ],
             [
              0.5555555555555556,
              "#d8576b"
             ],
             [
              0.6666666666666666,
              "#ed7953"
             ],
             [
              0.7777777777777778,
              "#fb9f3a"
             ],
             [
              0.8888888888888888,
              "#fdca26"
             ],
             [
              1,
              "#f0f921"
             ]
            ],
            "type": "contour"
           }
          ],
          "contourcarpet": [
           {
            "colorbar": {
             "outlinewidth": 0,
             "ticks": ""
            },
            "type": "contourcarpet"
           }
          ],
          "heatmap": [
           {
            "colorbar": {
             "outlinewidth": 0,
             "ticks": ""
            },
            "colorscale": [
             [
              0,
              "#0d0887"
             ],
             [
              0.1111111111111111,
              "#46039f"
             ],
             [
              0.2222222222222222,
              "#7201a8"
             ],
             [
              0.3333333333333333,
              "#9c179e"
             ],
             [
              0.4444444444444444,
              "#bd3786"
             ],
             [
              0.5555555555555556,
              "#d8576b"
             ],
             [
              0.6666666666666666,
              "#ed7953"
             ],
             [
              0.7777777777777778,
              "#fb9f3a"
             ],
             [
              0.8888888888888888,
              "#fdca26"
             ],
             [
              1,
              "#f0f921"
             ]
            ],
            "type": "heatmap"
           }
          ],
          "heatmapgl": [
           {
            "colorbar": {
             "outlinewidth": 0,
             "ticks": ""
            },
            "colorscale": [
             [
              0,
              "#0d0887"
             ],
             [
              0.1111111111111111,
              "#46039f"
             ],
             [
              0.2222222222222222,
              "#7201a8"
             ],
             [
              0.3333333333333333,
              "#9c179e"
             ],
             [
              0.4444444444444444,
              "#bd3786"
             ],
             [
              0.5555555555555556,
              "#d8576b"
             ],
             [
              0.6666666666666666,
              "#ed7953"
             ],
             [
              0.7777777777777778,
              "#fb9f3a"
             ],
             [
              0.8888888888888888,
              "#fdca26"
             ],
             [
              1,
              "#f0f921"
             ]
            ],
            "type": "heatmapgl"
           }
          ],
          "histogram": [
           {
            "marker": {
             "pattern": {
              "fillmode": "overlay",
              "size": 10,
              "solidity": 0.2
             }
            },
            "type": "histogram"
           }
          ],
          "histogram2d": [
           {
            "colorbar": {
             "outlinewidth": 0,
             "ticks": ""
            },
            "colorscale": [
             [
              0,
              "#0d0887"
             ],
             [
              0.1111111111111111,
              "#46039f"
             ],
             [
              0.2222222222222222,
              "#7201a8"
             ],
             [
              0.3333333333333333,
              "#9c179e"
             ],
             [
              0.4444444444444444,
              "#bd3786"
             ],
             [
              0.5555555555555556,
              "#d8576b"
             ],
             [
              0.6666666666666666,
              "#ed7953"
             ],
             [
              0.7777777777777778,
              "#fb9f3a"
             ],
             [
              0.8888888888888888,
              "#fdca26"
             ],
             [
              1,
              "#f0f921"
             ]
            ],
            "type": "histogram2d"
           }
          ],
          "histogram2dcontour": [
           {
            "colorbar": {
             "outlinewidth": 0,
             "ticks": ""
            },
            "colorscale": [
             [
              0,
              "#0d0887"
             ],
             [
              0.1111111111111111,
              "#46039f"
             ],
             [
              0.2222222222222222,
              "#7201a8"
             ],
             [
              0.3333333333333333,
              "#9c179e"
             ],
             [
              0.4444444444444444,
              "#bd3786"
             ],
             [
              0.5555555555555556,
              "#d8576b"
             ],
             [
              0.6666666666666666,
              "#ed7953"
             ],
             [
              0.7777777777777778,
              "#fb9f3a"
             ],
             [
              0.8888888888888888,
              "#fdca26"
             ],
             [
              1,
              "#f0f921"
             ]
            ],
            "type": "histogram2dcontour"
           }
          ],
          "mesh3d": [
           {
            "colorbar": {
             "outlinewidth": 0,
             "ticks": ""
            },
            "type": "mesh3d"
           }
          ],
          "parcoords": [
           {
            "line": {
             "colorbar": {
              "outlinewidth": 0,
              "ticks": ""
             }
            },
            "type": "parcoords"
           }
          ],
          "pie": [
           {
            "automargin": true,
            "type": "pie"
           }
          ],
          "scatter": [
           {
            "fillpattern": {
             "fillmode": "overlay",
             "size": 10,
             "solidity": 0.2
            },
            "type": "scatter"
           }
          ],
          "scatter3d": [
           {
            "line": {
             "colorbar": {
              "outlinewidth": 0,
              "ticks": ""
             }
            },
            "marker": {
             "colorbar": {
              "outlinewidth": 0,
              "ticks": ""
             }
            },
            "type": "scatter3d"
           }
          ],
          "scattercarpet": [
           {
            "marker": {
             "colorbar": {
              "outlinewidth": 0,
              "ticks": ""
             }
            },
            "type": "scattercarpet"
           }
          ],
          "scattergeo": [
           {
            "marker": {
             "colorbar": {
              "outlinewidth": 0,
              "ticks": ""
             }
            },
            "type": "scattergeo"
           }
          ],
          "scattergl": [
           {
            "marker": {
             "colorbar": {
              "outlinewidth": 0,
              "ticks": ""
             }
            },
            "type": "scattergl"
           }
          ],
          "scattermapbox": [
           {
            "marker": {
             "colorbar": {
              "outlinewidth": 0,
              "ticks": ""
             }
            },
            "type": "scattermapbox"
           }
          ],
          "scatterpolar": [
           {
            "marker": {
             "colorbar": {
              "outlinewidth": 0,
              "ticks": ""
             }
            },
            "type": "scatterpolar"
           }
          ],
          "scatterpolargl": [
           {
            "marker": {
             "colorbar": {
              "outlinewidth": 0,
              "ticks": ""
             }
            },
            "type": "scatterpolargl"
           }
          ],
          "scatterternary": [
           {
            "marker": {
             "colorbar": {
              "outlinewidth": 0,
              "ticks": ""
             }
            },
            "type": "scatterternary"
           }
          ],
          "surface": [
           {
            "colorbar": {
             "outlinewidth": 0,
             "ticks": ""
            },
            "colorscale": [
             [
              0,
              "#0d0887"
             ],
             [
              0.1111111111111111,
              "#46039f"
             ],
             [
              0.2222222222222222,
              "#7201a8"
             ],
             [
              0.3333333333333333,
              "#9c179e"
             ],
             [
              0.4444444444444444,
              "#bd3786"
             ],
             [
              0.5555555555555556,
              "#d8576b"
             ],
             [
              0.6666666666666666,
              "#ed7953"
             ],
             [
              0.7777777777777778,
              "#fb9f3a"
             ],
             [
              0.8888888888888888,
              "#fdca26"
             ],
             [
              1,
              "#f0f921"
             ]
            ],
            "type": "surface"
           }
          ],
          "table": [
           {
            "cells": {
             "fill": {
              "color": "#EBF0F8"
             },
             "line": {
              "color": "white"
             }
            },
            "header": {
             "fill": {
              "color": "#C8D4E3"
             },
             "line": {
              "color": "white"
             }
            },
            "type": "table"
           }
          ]
         },
         "layout": {
          "annotationdefaults": {
           "arrowcolor": "#2a3f5f",
           "arrowhead": 0,
           "arrowwidth": 1
          },
          "autotypenumbers": "strict",
          "coloraxis": {
           "colorbar": {
            "outlinewidth": 0,
            "ticks": ""
           }
          },
          "colorscale": {
           "diverging": [
            [
             0,
             "#8e0152"
            ],
            [
             0.1,
             "#c51b7d"
            ],
            [
             0.2,
             "#de77ae"
            ],
            [
             0.3,
             "#f1b6da"
            ],
            [
             0.4,
             "#fde0ef"
            ],
            [
             0.5,
             "#f7f7f7"
            ],
            [
             0.6,
             "#e6f5d0"
            ],
            [
             0.7,
             "#b8e186"
            ],
            [
             0.8,
             "#7fbc41"
            ],
            [
             0.9,
             "#4d9221"
            ],
            [
             1,
             "#276419"
            ]
           ],
           "sequential": [
            [
             0,
             "#0d0887"
            ],
            [
             0.1111111111111111,
             "#46039f"
            ],
            [
             0.2222222222222222,
             "#7201a8"
            ],
            [
             0.3333333333333333,
             "#9c179e"
            ],
            [
             0.4444444444444444,
             "#bd3786"
            ],
            [
             0.5555555555555556,
             "#d8576b"
            ],
            [
             0.6666666666666666,
             "#ed7953"
            ],
            [
             0.7777777777777778,
             "#fb9f3a"
            ],
            [
             0.8888888888888888,
             "#fdca26"
            ],
            [
             1,
             "#f0f921"
            ]
           ],
           "sequentialminus": [
            [
             0,
             "#0d0887"
            ],
            [
             0.1111111111111111,
             "#46039f"
            ],
            [
             0.2222222222222222,
             "#7201a8"
            ],
            [
             0.3333333333333333,
             "#9c179e"
            ],
            [
             0.4444444444444444,
             "#bd3786"
            ],
            [
             0.5555555555555556,
             "#d8576b"
            ],
            [
             0.6666666666666666,
             "#ed7953"
            ],
            [
             0.7777777777777778,
             "#fb9f3a"
            ],
            [
             0.8888888888888888,
             "#fdca26"
            ],
            [
             1,
             "#f0f921"
            ]
           ]
          },
          "colorway": [
           "#636efa",
           "#EF553B",
           "#00cc96",
           "#ab63fa",
           "#FFA15A",
           "#19d3f3",
           "#FF6692",
           "#B6E880",
           "#FF97FF",
           "#FECB52"
          ],
          "font": {
           "color": "#2a3f5f"
          },
          "geo": {
           "bgcolor": "white",
           "lakecolor": "white",
           "landcolor": "#E5ECF6",
           "showlakes": true,
           "showland": true,
           "subunitcolor": "white"
          },
          "hoverlabel": {
           "align": "left"
          },
          "hovermode": "closest",
          "mapbox": {
           "style": "light"
          },
          "paper_bgcolor": "white",
          "plot_bgcolor": "#E5ECF6",
          "polar": {
           "angularaxis": {
            "gridcolor": "white",
            "linecolor": "white",
            "ticks": ""
           },
           "bgcolor": "#E5ECF6",
           "radialaxis": {
            "gridcolor": "white",
            "linecolor": "white",
            "ticks": ""
           }
          },
          "scene": {
           "xaxis": {
            "backgroundcolor": "#E5ECF6",
            "gridcolor": "white",
            "gridwidth": 2,
            "linecolor": "white",
            "showbackground": true,
            "ticks": "",
            "zerolinecolor": "white"
           },
           "yaxis": {
            "backgroundcolor": "#E5ECF6",
            "gridcolor": "white",
            "gridwidth": 2,
            "linecolor": "white",
            "showbackground": true,
            "ticks": "",
            "zerolinecolor": "white"
           },
           "zaxis": {
            "backgroundcolor": "#E5ECF6",
            "gridcolor": "white",
            "gridwidth": 2,
            "linecolor": "white",
            "showbackground": true,
            "ticks": "",
            "zerolinecolor": "white"
           }
          },
          "shapedefaults": {
           "line": {
            "color": "#2a3f5f"
           }
          },
          "ternary": {
           "aaxis": {
            "gridcolor": "white",
            "linecolor": "white",
            "ticks": ""
           },
           "baxis": {
            "gridcolor": "white",
            "linecolor": "white",
            "ticks": ""
           },
           "bgcolor": "#E5ECF6",
           "caxis": {
            "gridcolor": "white",
            "linecolor": "white",
            "ticks": ""
           }
          },
          "title": {
           "x": 0.05
          },
          "xaxis": {
           "automargin": true,
           "gridcolor": "white",
           "linecolor": "white",
           "ticks": "",
           "title": {
            "standoff": 15
           },
           "zerolinecolor": "white",
           "zerolinewidth": 2
          },
          "yaxis": {
           "automargin": true,
           "gridcolor": "white",
           "linecolor": "white",
           "ticks": "",
           "title": {
            "standoff": 15
           },
           "zerolinecolor": "white",
           "zerolinewidth": 2
          }
         }
        },
        "xaxis": {
         "anchor": "y",
         "domain": [
          0,
          1
         ],
         "title": {
          "text": "EST_CIVIL"
         }
        },
        "yaxis": {
         "anchor": "x",
         "domain": [
          0,
          1
         ],
         "title": {
          "text": "count"
         }
        }
       }
      }
     },
     "metadata": {},
     "output_type": "display_data"
    }
   ],
   "source": [
    "fig = px.histogram(vs_cad_basc, x='EST_CIVIL', color='SAIU', text_auto=True)\n",
    "fig.show()"
   ]
  },
  {
   "cell_type": "code",
   "execution_count": 20,
   "metadata": {},
   "outputs": [
    {
     "data": {
      "application/vnd.plotly.v1+json": {
       "config": {
        "plotlyServerURL": "https://plot.ly"
       },
       "data": [
        {
         "alignmentgroup": "True",
         "bingroup": "x",
         "hovertemplate": "SAIU=1<br>SEXO=%{x}<br>count=%{y}<extra></extra>",
         "legendgroup": "1",
         "marker": {
          "color": "#636efa",
          "pattern": {
           "shape": ""
          }
         },
         "name": "1",
         "offsetgroup": "1",
         "orientation": "v",
         "showlegend": true,
         "texttemplate": "%{value}",
         "type": "histogram",
         "x": [
          "1",
          "2",
          "2",
          "2",
          "1",
          "1",
          "1",
          "2",
          "2",
          "2",
          "2",
          "1",
          "1",
          "1",
          "1",
          "1",
          "2",
          "1",
          "1",
          "1",
          "1",
          "2",
          "2",
          "1",
          "1",
          "1",
          "1",
          "2",
          "2",
          "2",
          "2",
          "2",
          "1",
          "2",
          "1",
          "2",
          "2",
          "2",
          "2",
          "1",
          "1",
          "1",
          "1",
          "2",
          "2",
          "2",
          "1",
          "2",
          "2",
          "2",
          "2",
          "1",
          "1",
          "1",
          "2",
          "1",
          "1",
          "1",
          "1",
          "2",
          "2",
          "2",
          "2",
          "1",
          "1",
          "1",
          "2",
          "2",
          "1",
          "1",
          "1",
          "1",
          "1",
          "2",
          "1",
          "1",
          "1",
          "1",
          "2",
          "2",
          "2",
          "2",
          "1",
          "1",
          "2",
          "2",
          "1",
          "1",
          "1",
          "1",
          "1",
          "2",
          "1",
          "1",
          "1",
          "1",
          "1",
          "1",
          "1",
          "1",
          "2",
          "1",
          "2",
          "1",
          "1",
          "1",
          "1",
          "1",
          "1",
          "2",
          "1",
          "1",
          "1",
          "1",
          "1",
          "2",
          "2",
          "2",
          "1",
          "1",
          "1",
          "1",
          "1",
          "1",
          "1",
          "2",
          "1",
          "1",
          "1",
          "2",
          "2",
          "2",
          "2",
          "2",
          "2",
          "1",
          "1",
          "2",
          "1",
          "1",
          "1",
          "1",
          "2",
          "2",
          "2",
          "1",
          "1",
          "2",
          "1",
          "2",
          "1",
          "2",
          "1",
          "1",
          "1",
          "2",
          "1",
          "2",
          "1",
          "2",
          "1",
          "1",
          "1",
          "1",
          "1",
          "2",
          "1",
          "1",
          "1",
          "2",
          "2",
          "2",
          "2",
          "1",
          "1",
          "2",
          "2",
          "2",
          "2",
          "1",
          "2",
          "1",
          "2",
          "2",
          "2",
          "2",
          "1",
          "1",
          "1",
          "2",
          "1",
          "1",
          "1",
          "1"
         ],
         "xaxis": "x",
         "yaxis": "y"
        },
        {
         "alignmentgroup": "True",
         "bingroup": "x",
         "hovertemplate": "SAIU=0<br>SEXO=%{x}<br>count=%{y}<extra></extra>",
         "legendgroup": "0",
         "marker": {
          "color": "#EF553B",
          "pattern": {
           "shape": ""
          }
         },
         "name": "0",
         "offsetgroup": "0",
         "orientation": "v",
         "showlegend": true,
         "texttemplate": "%{value}",
         "type": "histogram",
         "x": [
          "1",
          "1",
          "2",
          "2",
          "2",
          "1",
          "2",
          "2",
          "1",
          "1",
          "1",
          "1",
          "1",
          "2",
          "1",
          "2",
          "2",
          "2",
          "2",
          "2",
          "2",
          "2",
          "2",
          "2",
          "2",
          "2",
          "1",
          "1",
          "1",
          "1",
          "1",
          "1",
          "2",
          "2",
          "2",
          "2",
          "1",
          "1",
          "1",
          "1",
          "1",
          "2",
          "2",
          "2",
          "1",
          "2",
          "2",
          "2",
          "2",
          "2",
          "2",
          "1",
          "2",
          "1",
          "1",
          "2",
          "2",
          "2",
          "2",
          "2",
          "1",
          "2",
          "2",
          "2",
          "2",
          "1",
          "1",
          "1",
          "1",
          "2",
          "1",
          "2",
          "2",
          "2",
          "1",
          "1",
          "2",
          "1",
          "1",
          "1",
          "2",
          "1",
          "1",
          "2",
          "1",
          "2",
          "2",
          "1",
          "1",
          "2",
          "1",
          "1",
          "1",
          "1",
          "2",
          "2",
          "2",
          "1",
          "1",
          "2",
          "1",
          "1",
          "1",
          "1",
          "1",
          "2",
          "1",
          "1",
          "1",
          "2",
          "1",
          "1",
          "1",
          "2",
          "1",
          "2",
          "2",
          "1",
          "1",
          "1",
          "1",
          "1",
          "2",
          "1",
          "1",
          "1",
          "2",
          "1",
          "1",
          "2",
          "1",
          "1",
          "2",
          "1",
          "2",
          "2",
          "2",
          "1",
          "1",
          "1",
          "1",
          "2",
          "2",
          "2",
          "1",
          "2",
          "2",
          "2",
          "2",
          "2",
          "2",
          "2",
          "1",
          "1",
          "2",
          "2",
          "1",
          "2",
          "1",
          "1",
          "1",
          "2",
          "2",
          "1",
          "2",
          "1",
          "1",
          "1",
          "2",
          "1",
          "1",
          "1",
          "1",
          "1",
          "2",
          "1",
          "1",
          "1",
          "1",
          "2",
          "2",
          "2",
          "2",
          "2",
          "2",
          "2",
          "2",
          "1",
          "1",
          "1",
          "1",
          "2",
          "2",
          "1",
          "2",
          "2",
          "2",
          "2",
          "2",
          "1",
          "1",
          "2",
          "1",
          "1",
          "1",
          "2",
          "2",
          "1",
          "1",
          "1",
          "1",
          "1",
          "1",
          "1",
          "1",
          "2",
          "1",
          "2",
          "2",
          "2",
          "2",
          "1",
          "1",
          "1",
          "1",
          "1",
          "1",
          "1",
          "1",
          "1",
          "1",
          "1",
          "1",
          "1",
          "1",
          "2",
          "2",
          "2",
          "2",
          "1",
          "2",
          "2",
          "1",
          "1",
          "1",
          "1",
          "1",
          "1",
          "2",
          "2",
          "2",
          "2",
          "2",
          "1",
          "2",
          "2",
          "2",
          "2",
          "2",
          "2",
          "2",
          "2",
          "1",
          "1",
          "1",
          "1",
          "1",
          "1",
          "2",
          "2",
          "1",
          "1",
          "1",
          "1",
          "2",
          "1",
          "1"
         ],
         "xaxis": "x",
         "yaxis": "y"
        }
       ],
       "layout": {
        "barmode": "relative",
        "legend": {
         "title": {
          "text": "SAIU"
         },
         "tracegroupgap": 0
        },
        "margin": {
         "t": 60
        },
        "template": {
         "data": {
          "bar": [
           {
            "error_x": {
             "color": "#2a3f5f"
            },
            "error_y": {
             "color": "#2a3f5f"
            },
            "marker": {
             "line": {
              "color": "#E5ECF6",
              "width": 0.5
             },
             "pattern": {
              "fillmode": "overlay",
              "size": 10,
              "solidity": 0.2
             }
            },
            "type": "bar"
           }
          ],
          "barpolar": [
           {
            "marker": {
             "line": {
              "color": "#E5ECF6",
              "width": 0.5
             },
             "pattern": {
              "fillmode": "overlay",
              "size": 10,
              "solidity": 0.2
             }
            },
            "type": "barpolar"
           }
          ],
          "carpet": [
           {
            "aaxis": {
             "endlinecolor": "#2a3f5f",
             "gridcolor": "white",
             "linecolor": "white",
             "minorgridcolor": "white",
             "startlinecolor": "#2a3f5f"
            },
            "baxis": {
             "endlinecolor": "#2a3f5f",
             "gridcolor": "white",
             "linecolor": "white",
             "minorgridcolor": "white",
             "startlinecolor": "#2a3f5f"
            },
            "type": "carpet"
           }
          ],
          "choropleth": [
           {
            "colorbar": {
             "outlinewidth": 0,
             "ticks": ""
            },
            "type": "choropleth"
           }
          ],
          "contour": [
           {
            "colorbar": {
             "outlinewidth": 0,
             "ticks": ""
            },
            "colorscale": [
             [
              0,
              "#0d0887"
             ],
             [
              0.1111111111111111,
              "#46039f"
             ],
             [
              0.2222222222222222,
              "#7201a8"
             ],
             [
              0.3333333333333333,
              "#9c179e"
             ],
             [
              0.4444444444444444,
              "#bd3786"
             ],
             [
              0.5555555555555556,
              "#d8576b"
             ],
             [
              0.6666666666666666,
              "#ed7953"
             ],
             [
              0.7777777777777778,
              "#fb9f3a"
             ],
             [
              0.8888888888888888,
              "#fdca26"
             ],
             [
              1,
              "#f0f921"
             ]
            ],
            "type": "contour"
           }
          ],
          "contourcarpet": [
           {
            "colorbar": {
             "outlinewidth": 0,
             "ticks": ""
            },
            "type": "contourcarpet"
           }
          ],
          "heatmap": [
           {
            "colorbar": {
             "outlinewidth": 0,
             "ticks": ""
            },
            "colorscale": [
             [
              0,
              "#0d0887"
             ],
             [
              0.1111111111111111,
              "#46039f"
             ],
             [
              0.2222222222222222,
              "#7201a8"
             ],
             [
              0.3333333333333333,
              "#9c179e"
             ],
             [
              0.4444444444444444,
              "#bd3786"
             ],
             [
              0.5555555555555556,
              "#d8576b"
             ],
             [
              0.6666666666666666,
              "#ed7953"
             ],
             [
              0.7777777777777778,
              "#fb9f3a"
             ],
             [
              0.8888888888888888,
              "#fdca26"
             ],
             [
              1,
              "#f0f921"
             ]
            ],
            "type": "heatmap"
           }
          ],
          "heatmapgl": [
           {
            "colorbar": {
             "outlinewidth": 0,
             "ticks": ""
            },
            "colorscale": [
             [
              0,
              "#0d0887"
             ],
             [
              0.1111111111111111,
              "#46039f"
             ],
             [
              0.2222222222222222,
              "#7201a8"
             ],
             [
              0.3333333333333333,
              "#9c179e"
             ],
             [
              0.4444444444444444,
              "#bd3786"
             ],
             [
              0.5555555555555556,
              "#d8576b"
             ],
             [
              0.6666666666666666,
              "#ed7953"
             ],
             [
              0.7777777777777778,
              "#fb9f3a"
             ],
             [
              0.8888888888888888,
              "#fdca26"
             ],
             [
              1,
              "#f0f921"
             ]
            ],
            "type": "heatmapgl"
           }
          ],
          "histogram": [
           {
            "marker": {
             "pattern": {
              "fillmode": "overlay",
              "size": 10,
              "solidity": 0.2
             }
            },
            "type": "histogram"
           }
          ],
          "histogram2d": [
           {
            "colorbar": {
             "outlinewidth": 0,
             "ticks": ""
            },
            "colorscale": [
             [
              0,
              "#0d0887"
             ],
             [
              0.1111111111111111,
              "#46039f"
             ],
             [
              0.2222222222222222,
              "#7201a8"
             ],
             [
              0.3333333333333333,
              "#9c179e"
             ],
             [
              0.4444444444444444,
              "#bd3786"
             ],
             [
              0.5555555555555556,
              "#d8576b"
             ],
             [
              0.6666666666666666,
              "#ed7953"
             ],
             [
              0.7777777777777778,
              "#fb9f3a"
             ],
             [
              0.8888888888888888,
              "#fdca26"
             ],
             [
              1,
              "#f0f921"
             ]
            ],
            "type": "histogram2d"
           }
          ],
          "histogram2dcontour": [
           {
            "colorbar": {
             "outlinewidth": 0,
             "ticks": ""
            },
            "colorscale": [
             [
              0,
              "#0d0887"
             ],
             [
              0.1111111111111111,
              "#46039f"
             ],
             [
              0.2222222222222222,
              "#7201a8"
             ],
             [
              0.3333333333333333,
              "#9c179e"
             ],
             [
              0.4444444444444444,
              "#bd3786"
             ],
             [
              0.5555555555555556,
              "#d8576b"
             ],
             [
              0.6666666666666666,
              "#ed7953"
             ],
             [
              0.7777777777777778,
              "#fb9f3a"
             ],
             [
              0.8888888888888888,
              "#fdca26"
             ],
             [
              1,
              "#f0f921"
             ]
            ],
            "type": "histogram2dcontour"
           }
          ],
          "mesh3d": [
           {
            "colorbar": {
             "outlinewidth": 0,
             "ticks": ""
            },
            "type": "mesh3d"
           }
          ],
          "parcoords": [
           {
            "line": {
             "colorbar": {
              "outlinewidth": 0,
              "ticks": ""
             }
            },
            "type": "parcoords"
           }
          ],
          "pie": [
           {
            "automargin": true,
            "type": "pie"
           }
          ],
          "scatter": [
           {
            "fillpattern": {
             "fillmode": "overlay",
             "size": 10,
             "solidity": 0.2
            },
            "type": "scatter"
           }
          ],
          "scatter3d": [
           {
            "line": {
             "colorbar": {
              "outlinewidth": 0,
              "ticks": ""
             }
            },
            "marker": {
             "colorbar": {
              "outlinewidth": 0,
              "ticks": ""
             }
            },
            "type": "scatter3d"
           }
          ],
          "scattercarpet": [
           {
            "marker": {
             "colorbar": {
              "outlinewidth": 0,
              "ticks": ""
             }
            },
            "type": "scattercarpet"
           }
          ],
          "scattergeo": [
           {
            "marker": {
             "colorbar": {
              "outlinewidth": 0,
              "ticks": ""
             }
            },
            "type": "scattergeo"
           }
          ],
          "scattergl": [
           {
            "marker": {
             "colorbar": {
              "outlinewidth": 0,
              "ticks": ""
             }
            },
            "type": "scattergl"
           }
          ],
          "scattermapbox": [
           {
            "marker": {
             "colorbar": {
              "outlinewidth": 0,
              "ticks": ""
             }
            },
            "type": "scattermapbox"
           }
          ],
          "scatterpolar": [
           {
            "marker": {
             "colorbar": {
              "outlinewidth": 0,
              "ticks": ""
             }
            },
            "type": "scatterpolar"
           }
          ],
          "scatterpolargl": [
           {
            "marker": {
             "colorbar": {
              "outlinewidth": 0,
              "ticks": ""
             }
            },
            "type": "scatterpolargl"
           }
          ],
          "scatterternary": [
           {
            "marker": {
             "colorbar": {
              "outlinewidth": 0,
              "ticks": ""
             }
            },
            "type": "scatterternary"
           }
          ],
          "surface": [
           {
            "colorbar": {
             "outlinewidth": 0,
             "ticks": ""
            },
            "colorscale": [
             [
              0,
              "#0d0887"
             ],
             [
              0.1111111111111111,
              "#46039f"
             ],
             [
              0.2222222222222222,
              "#7201a8"
             ],
             [
              0.3333333333333333,
              "#9c179e"
             ],
             [
              0.4444444444444444,
              "#bd3786"
             ],
             [
              0.5555555555555556,
              "#d8576b"
             ],
             [
              0.6666666666666666,
              "#ed7953"
             ],
             [
              0.7777777777777778,
              "#fb9f3a"
             ],
             [
              0.8888888888888888,
              "#fdca26"
             ],
             [
              1,
              "#f0f921"
             ]
            ],
            "type": "surface"
           }
          ],
          "table": [
           {
            "cells": {
             "fill": {
              "color": "#EBF0F8"
             },
             "line": {
              "color": "white"
             }
            },
            "header": {
             "fill": {
              "color": "#C8D4E3"
             },
             "line": {
              "color": "white"
             }
            },
            "type": "table"
           }
          ]
         },
         "layout": {
          "annotationdefaults": {
           "arrowcolor": "#2a3f5f",
           "arrowhead": 0,
           "arrowwidth": 1
          },
          "autotypenumbers": "strict",
          "coloraxis": {
           "colorbar": {
            "outlinewidth": 0,
            "ticks": ""
           }
          },
          "colorscale": {
           "diverging": [
            [
             0,
             "#8e0152"
            ],
            [
             0.1,
             "#c51b7d"
            ],
            [
             0.2,
             "#de77ae"
            ],
            [
             0.3,
             "#f1b6da"
            ],
            [
             0.4,
             "#fde0ef"
            ],
            [
             0.5,
             "#f7f7f7"
            ],
            [
             0.6,
             "#e6f5d0"
            ],
            [
             0.7,
             "#b8e186"
            ],
            [
             0.8,
             "#7fbc41"
            ],
            [
             0.9,
             "#4d9221"
            ],
            [
             1,
             "#276419"
            ]
           ],
           "sequential": [
            [
             0,
             "#0d0887"
            ],
            [
             0.1111111111111111,
             "#46039f"
            ],
            [
             0.2222222222222222,
             "#7201a8"
            ],
            [
             0.3333333333333333,
             "#9c179e"
            ],
            [
             0.4444444444444444,
             "#bd3786"
            ],
            [
             0.5555555555555556,
             "#d8576b"
            ],
            [
             0.6666666666666666,
             "#ed7953"
            ],
            [
             0.7777777777777778,
             "#fb9f3a"
            ],
            [
             0.8888888888888888,
             "#fdca26"
            ],
            [
             1,
             "#f0f921"
            ]
           ],
           "sequentialminus": [
            [
             0,
             "#0d0887"
            ],
            [
             0.1111111111111111,
             "#46039f"
            ],
            [
             0.2222222222222222,
             "#7201a8"
            ],
            [
             0.3333333333333333,
             "#9c179e"
            ],
            [
             0.4444444444444444,
             "#bd3786"
            ],
            [
             0.5555555555555556,
             "#d8576b"
            ],
            [
             0.6666666666666666,
             "#ed7953"
            ],
            [
             0.7777777777777778,
             "#fb9f3a"
            ],
            [
             0.8888888888888888,
             "#fdca26"
            ],
            [
             1,
             "#f0f921"
            ]
           ]
          },
          "colorway": [
           "#636efa",
           "#EF553B",
           "#00cc96",
           "#ab63fa",
           "#FFA15A",
           "#19d3f3",
           "#FF6692",
           "#B6E880",
           "#FF97FF",
           "#FECB52"
          ],
          "font": {
           "color": "#2a3f5f"
          },
          "geo": {
           "bgcolor": "white",
           "lakecolor": "white",
           "landcolor": "#E5ECF6",
           "showlakes": true,
           "showland": true,
           "subunitcolor": "white"
          },
          "hoverlabel": {
           "align": "left"
          },
          "hovermode": "closest",
          "mapbox": {
           "style": "light"
          },
          "paper_bgcolor": "white",
          "plot_bgcolor": "#E5ECF6",
          "polar": {
           "angularaxis": {
            "gridcolor": "white",
            "linecolor": "white",
            "ticks": ""
           },
           "bgcolor": "#E5ECF6",
           "radialaxis": {
            "gridcolor": "white",
            "linecolor": "white",
            "ticks": ""
           }
          },
          "scene": {
           "xaxis": {
            "backgroundcolor": "#E5ECF6",
            "gridcolor": "white",
            "gridwidth": 2,
            "linecolor": "white",
            "showbackground": true,
            "ticks": "",
            "zerolinecolor": "white"
           },
           "yaxis": {
            "backgroundcolor": "#E5ECF6",
            "gridcolor": "white",
            "gridwidth": 2,
            "linecolor": "white",
            "showbackground": true,
            "ticks": "",
            "zerolinecolor": "white"
           },
           "zaxis": {
            "backgroundcolor": "#E5ECF6",
            "gridcolor": "white",
            "gridwidth": 2,
            "linecolor": "white",
            "showbackground": true,
            "ticks": "",
            "zerolinecolor": "white"
           }
          },
          "shapedefaults": {
           "line": {
            "color": "#2a3f5f"
           }
          },
          "ternary": {
           "aaxis": {
            "gridcolor": "white",
            "linecolor": "white",
            "ticks": ""
           },
           "baxis": {
            "gridcolor": "white",
            "linecolor": "white",
            "ticks": ""
           },
           "bgcolor": "#E5ECF6",
           "caxis": {
            "gridcolor": "white",
            "linecolor": "white",
            "ticks": ""
           }
          },
          "title": {
           "x": 0.05
          },
          "xaxis": {
           "automargin": true,
           "gridcolor": "white",
           "linecolor": "white",
           "ticks": "",
           "title": {
            "standoff": 15
           },
           "zerolinecolor": "white",
           "zerolinewidth": 2
          },
          "yaxis": {
           "automargin": true,
           "gridcolor": "white",
           "linecolor": "white",
           "ticks": "",
           "title": {
            "standoff": 15
           },
           "zerolinecolor": "white",
           "zerolinewidth": 2
          }
         }
        },
        "xaxis": {
         "anchor": "y",
         "domain": [
          0,
          1
         ],
         "title": {
          "text": "SEXO"
         }
        },
        "yaxis": {
         "anchor": "x",
         "domain": [
          0,
          1
         ],
         "title": {
          "text": "count"
         }
        }
       }
      }
     },
     "metadata": {},
     "output_type": "display_data"
    }
   ],
   "source": [
    "fig = px.histogram(vs_cad_basc, x='SEXO', color='SAIU', text_auto=True)\n",
    "fig.show()"
   ]
  },
  {
   "cell_type": "code",
   "execution_count": 21,
   "metadata": {},
   "outputs": [
    {
     "data": {
      "application/vnd.plotly.v1+json": {
       "config": {
        "plotlyServerURL": "https://plot.ly"
       },
       "data": [
        {
         "alignmentgroup": "True",
         "bingroup": "x",
         "hovertemplate": "SAIU=1<br>GERACAO=%{x}<br>count=%{y}<extra></extra>",
         "legendgroup": "1",
         "marker": {
          "color": "#636efa",
          "pattern": {
           "shape": ""
          }
         },
         "name": "1",
         "offsetgroup": "1",
         "orientation": "v",
         "showlegend": true,
         "texttemplate": "%{value}",
         "type": "histogram",
         "x": [
          "X",
          "X",
          "Millennials",
          "X",
          "Baby Boomer",
          "X",
          "X",
          "Millennials",
          "X",
          "X",
          "X",
          "Millennials",
          "Millennials",
          "Millennials",
          "X",
          "X",
          "Millennials",
          "Baby Boomer",
          "X",
          "Baby Boomer",
          "Baby Boomer",
          "Millennials",
          "X",
          "Baby Boomer",
          "Millennials",
          "X",
          "X",
          "Baby Boomer",
          "X",
          "Millennials",
          "X",
          "X",
          "X",
          "X",
          "X",
          "X",
          "X",
          "X",
          "X",
          "X",
          "X",
          "Millennials",
          "X",
          "X",
          "X",
          "X",
          "X",
          "X",
          "X",
          "X",
          "Millennials",
          "X",
          "Millennials",
          "Millennials",
          "X",
          "X",
          "X",
          "X",
          "X",
          "Millennials",
          "Millennials",
          "X",
          "X",
          "X",
          "X",
          "Millennials",
          "Millennials",
          "X",
          "Millennials",
          "X",
          "X",
          "Baby Boomer",
          "Millennials",
          "X",
          "X",
          "X",
          "Millennials",
          "Millennials",
          "X",
          "X",
          "Baby Boomer",
          "Baby Boomer",
          "Millennials",
          "Baby Boomer",
          "X",
          "X",
          "X",
          "Baby Boomer",
          "X",
          "X",
          "Baby Boomer",
          "X",
          "X",
          "Baby Boomer",
          "X",
          "Baby Boomer",
          "X",
          "Baby Boomer",
          "X",
          "X",
          "Millennials",
          "X",
          "Millennials",
          "X",
          "Baby Boomer",
          "Millennials",
          "Millennials",
          "Baby Boomer",
          "Millennials",
          "X",
          "X",
          "Baby Boomer",
          "X",
          "X",
          "X",
          "X",
          "X",
          "Millennials",
          "X",
          "X",
          "X",
          "X",
          "X",
          "X",
          "Millennials",
          "X",
          "X",
          "X",
          "X",
          "Baby Boomer",
          "X",
          "Baby Boomer",
          "Millennials",
          "Baby Boomer",
          "X",
          "Baby Boomer",
          "X",
          "X",
          "Baby Boomer",
          "X",
          "Millennials",
          "Baby Boomer",
          "Millennials",
          "Baby Boomer",
          "X",
          "X",
          "X",
          "X",
          "X",
          "Millennials",
          "Baby Boomer",
          "X",
          "X",
          "Baby Boomer",
          "Millennials",
          "X",
          "X",
          "X",
          "X",
          "X",
          "X",
          "X",
          "X",
          "X",
          "X",
          "X",
          "X",
          "X",
          "X",
          "X",
          "X",
          "Baby Boomer",
          "X",
          "X",
          "X",
          "X",
          "Millennials",
          "X",
          "X",
          "Millennials",
          "Baby Boomer",
          "Baby Boomer",
          "Baby Boomer",
          "X",
          "Millennials",
          "Millennials",
          "X",
          "X",
          "Baby Boomer",
          "Millennials",
          "Millennials",
          "X",
          "X",
          "X"
         ],
         "xaxis": "x",
         "yaxis": "y"
        },
        {
         "alignmentgroup": "True",
         "bingroup": "x",
         "hovertemplate": "SAIU=0<br>GERACAO=%{x}<br>count=%{y}<extra></extra>",
         "legendgroup": "0",
         "marker": {
          "color": "#EF553B",
          "pattern": {
           "shape": ""
          }
         },
         "name": "0",
         "offsetgroup": "0",
         "orientation": "v",
         "showlegend": true,
         "texttemplate": "%{value}",
         "type": "histogram",
         "x": [
          "X",
          "X",
          "Millennials",
          "Millennials",
          "X",
          "X",
          "Millennials",
          "Millennials",
          "X",
          "Millennials",
          "X",
          "Millennials",
          "X",
          "Millennials",
          "X",
          "Millennials",
          "Millennials",
          "Millennials",
          "Millennials",
          "X",
          "X",
          "Millennials",
          "X",
          "X",
          "Millennials",
          "X",
          "X",
          "X",
          "X",
          "X",
          "X",
          "Millennials",
          "X",
          "X",
          "X",
          "X",
          "X",
          "Millennials",
          "Millennials",
          "Millennials",
          "X",
          "Millennials",
          "Millennials",
          "Millennials",
          "X",
          "Millennials",
          "Millennials",
          "X",
          "X",
          "Millennials",
          "Millennials",
          "X",
          "X",
          "Millennials",
          "X",
          "X",
          "Millennials",
          "X",
          "X",
          "Millennials",
          "X",
          "Millennials",
          "Millennials",
          "X",
          "X",
          "Millennials",
          "X",
          "Millennials",
          "Millennials",
          "Millennials",
          "Millennials",
          "Millennials",
          "Millennials",
          "X",
          "Millennials",
          "X",
          "Baby Boomer",
          "X",
          "Millennials",
          "Millennials",
          "X",
          "X",
          "Millennials",
          "X",
          "X",
          "X",
          "Millennials",
          "Millennials",
          "X",
          "Millennials",
          "Millennials",
          "Millennials",
          "X",
          "Millennials",
          "Millennials",
          "X",
          "X",
          "X",
          "X",
          "Millennials",
          "Millennials",
          "Millennials",
          "Millennials",
          "X",
          "Millennials",
          "Millennials",
          "X",
          "Baby Boomer",
          "Millennials",
          "X",
          "Millennials",
          "X",
          "X",
          "X",
          "X",
          "X",
          "X",
          "Millennials",
          "Millennials",
          "Millennials",
          "X",
          "X",
          "X",
          "X",
          "X",
          "Millennials",
          "X",
          "Millennials",
          "Millennials",
          "X",
          "X",
          "X",
          "Baby Boomer",
          "X",
          "Millennials",
          "X",
          "Millennials",
          "X",
          "X",
          "X",
          "Millennials",
          "Millennials",
          "Millennials",
          "Millennials",
          "X",
          "X",
          "X",
          "Millennials",
          "X",
          "Millennials",
          "X",
          "X",
          "Millennials",
          "X",
          "X",
          "X",
          "Millennials",
          "Millennials",
          "Millennials",
          "Baby Boomer",
          "X",
          "Millennials",
          "X",
          "X",
          "X",
          "X",
          "Baby Boomer",
          "Baby Boomer",
          "Millennials",
          "X",
          "Millennials",
          "X",
          "X",
          "X",
          "Millennials",
          "X",
          "X",
          "X",
          "X",
          "X",
          "X",
          "X",
          "X",
          "Millennials",
          "Millennials",
          "X",
          "X",
          "X",
          "Millennials",
          "X",
          "Baby Boomer",
          "Millennials",
          "Millennials",
          "Millennials",
          "Millennials",
          "Baby Boomer",
          "Millennials",
          "X",
          "X",
          "Millennials",
          "X",
          "Millennials",
          "X",
          "Millennials",
          "Millennials",
          "Millennials",
          "Millennials",
          "Millennials",
          "Millennials",
          "Millennials",
          "Millennials",
          "X",
          "Millennials",
          "Millennials",
          "X",
          "Millennials",
          "Millennials",
          "Millennials",
          "X",
          "X",
          "X",
          "Millennials",
          "Millennials",
          "Millennials",
          "X",
          "X",
          "X",
          "X",
          "X",
          "Millennials",
          "Millennials",
          "X",
          "X",
          "X",
          "X",
          "X",
          "X",
          "X",
          "X",
          "X",
          "Baby Boomer",
          "Baby Boomer",
          "X",
          "X",
          "X",
          "X",
          "X",
          "Millennials",
          "X",
          "X",
          "X",
          "X",
          "X",
          "Millennials",
          "Millennials",
          "X",
          "X",
          "X",
          "Millennials",
          "Baby Boomer",
          "Millennials",
          "Millennials",
          "Millennials",
          "X",
          "Millennials",
          "Millennials",
          "X",
          "X",
          "X",
          "X",
          "X",
          "X",
          "Millennials",
          "Baby Boomer",
          "X",
          "Millennials",
          "X"
         ],
         "xaxis": "x",
         "yaxis": "y"
        }
       ],
       "layout": {
        "barmode": "relative",
        "legend": {
         "title": {
          "text": "SAIU"
         },
         "tracegroupgap": 0
        },
        "margin": {
         "t": 60
        },
        "template": {
         "data": {
          "bar": [
           {
            "error_x": {
             "color": "#2a3f5f"
            },
            "error_y": {
             "color": "#2a3f5f"
            },
            "marker": {
             "line": {
              "color": "#E5ECF6",
              "width": 0.5
             },
             "pattern": {
              "fillmode": "overlay",
              "size": 10,
              "solidity": 0.2
             }
            },
            "type": "bar"
           }
          ],
          "barpolar": [
           {
            "marker": {
             "line": {
              "color": "#E5ECF6",
              "width": 0.5
             },
             "pattern": {
              "fillmode": "overlay",
              "size": 10,
              "solidity": 0.2
             }
            },
            "type": "barpolar"
           }
          ],
          "carpet": [
           {
            "aaxis": {
             "endlinecolor": "#2a3f5f",
             "gridcolor": "white",
             "linecolor": "white",
             "minorgridcolor": "white",
             "startlinecolor": "#2a3f5f"
            },
            "baxis": {
             "endlinecolor": "#2a3f5f",
             "gridcolor": "white",
             "linecolor": "white",
             "minorgridcolor": "white",
             "startlinecolor": "#2a3f5f"
            },
            "type": "carpet"
           }
          ],
          "choropleth": [
           {
            "colorbar": {
             "outlinewidth": 0,
             "ticks": ""
            },
            "type": "choropleth"
           }
          ],
          "contour": [
           {
            "colorbar": {
             "outlinewidth": 0,
             "ticks": ""
            },
            "colorscale": [
             [
              0,
              "#0d0887"
             ],
             [
              0.1111111111111111,
              "#46039f"
             ],
             [
              0.2222222222222222,
              "#7201a8"
             ],
             [
              0.3333333333333333,
              "#9c179e"
             ],
             [
              0.4444444444444444,
              "#bd3786"
             ],
             [
              0.5555555555555556,
              "#d8576b"
             ],
             [
              0.6666666666666666,
              "#ed7953"
             ],
             [
              0.7777777777777778,
              "#fb9f3a"
             ],
             [
              0.8888888888888888,
              "#fdca26"
             ],
             [
              1,
              "#f0f921"
             ]
            ],
            "type": "contour"
           }
          ],
          "contourcarpet": [
           {
            "colorbar": {
             "outlinewidth": 0,
             "ticks": ""
            },
            "type": "contourcarpet"
           }
          ],
          "heatmap": [
           {
            "colorbar": {
             "outlinewidth": 0,
             "ticks": ""
            },
            "colorscale": [
             [
              0,
              "#0d0887"
             ],
             [
              0.1111111111111111,
              "#46039f"
             ],
             [
              0.2222222222222222,
              "#7201a8"
             ],
             [
              0.3333333333333333,
              "#9c179e"
             ],
             [
              0.4444444444444444,
              "#bd3786"
             ],
             [
              0.5555555555555556,
              "#d8576b"
             ],
             [
              0.6666666666666666,
              "#ed7953"
             ],
             [
              0.7777777777777778,
              "#fb9f3a"
             ],
             [
              0.8888888888888888,
              "#fdca26"
             ],
             [
              1,
              "#f0f921"
             ]
            ],
            "type": "heatmap"
           }
          ],
          "heatmapgl": [
           {
            "colorbar": {
             "outlinewidth": 0,
             "ticks": ""
            },
            "colorscale": [
             [
              0,
              "#0d0887"
             ],
             [
              0.1111111111111111,
              "#46039f"
             ],
             [
              0.2222222222222222,
              "#7201a8"
             ],
             [
              0.3333333333333333,
              "#9c179e"
             ],
             [
              0.4444444444444444,
              "#bd3786"
             ],
             [
              0.5555555555555556,
              "#d8576b"
             ],
             [
              0.6666666666666666,
              "#ed7953"
             ],
             [
              0.7777777777777778,
              "#fb9f3a"
             ],
             [
              0.8888888888888888,
              "#fdca26"
             ],
             [
              1,
              "#f0f921"
             ]
            ],
            "type": "heatmapgl"
           }
          ],
          "histogram": [
           {
            "marker": {
             "pattern": {
              "fillmode": "overlay",
              "size": 10,
              "solidity": 0.2
             }
            },
            "type": "histogram"
           }
          ],
          "histogram2d": [
           {
            "colorbar": {
             "outlinewidth": 0,
             "ticks": ""
            },
            "colorscale": [
             [
              0,
              "#0d0887"
             ],
             [
              0.1111111111111111,
              "#46039f"
             ],
             [
              0.2222222222222222,
              "#7201a8"
             ],
             [
              0.3333333333333333,
              "#9c179e"
             ],
             [
              0.4444444444444444,
              "#bd3786"
             ],
             [
              0.5555555555555556,
              "#d8576b"
             ],
             [
              0.6666666666666666,
              "#ed7953"
             ],
             [
              0.7777777777777778,
              "#fb9f3a"
             ],
             [
              0.8888888888888888,
              "#fdca26"
             ],
             [
              1,
              "#f0f921"
             ]
            ],
            "type": "histogram2d"
           }
          ],
          "histogram2dcontour": [
           {
            "colorbar": {
             "outlinewidth": 0,
             "ticks": ""
            },
            "colorscale": [
             [
              0,
              "#0d0887"
             ],
             [
              0.1111111111111111,
              "#46039f"
             ],
             [
              0.2222222222222222,
              "#7201a8"
             ],
             [
              0.3333333333333333,
              "#9c179e"
             ],
             [
              0.4444444444444444,
              "#bd3786"
             ],
             [
              0.5555555555555556,
              "#d8576b"
             ],
             [
              0.6666666666666666,
              "#ed7953"
             ],
             [
              0.7777777777777778,
              "#fb9f3a"
             ],
             [
              0.8888888888888888,
              "#fdca26"
             ],
             [
              1,
              "#f0f921"
             ]
            ],
            "type": "histogram2dcontour"
           }
          ],
          "mesh3d": [
           {
            "colorbar": {
             "outlinewidth": 0,
             "ticks": ""
            },
            "type": "mesh3d"
           }
          ],
          "parcoords": [
           {
            "line": {
             "colorbar": {
              "outlinewidth": 0,
              "ticks": ""
             }
            },
            "type": "parcoords"
           }
          ],
          "pie": [
           {
            "automargin": true,
            "type": "pie"
           }
          ],
          "scatter": [
           {
            "fillpattern": {
             "fillmode": "overlay",
             "size": 10,
             "solidity": 0.2
            },
            "type": "scatter"
           }
          ],
          "scatter3d": [
           {
            "line": {
             "colorbar": {
              "outlinewidth": 0,
              "ticks": ""
             }
            },
            "marker": {
             "colorbar": {
              "outlinewidth": 0,
              "ticks": ""
             }
            },
            "type": "scatter3d"
           }
          ],
          "scattercarpet": [
           {
            "marker": {
             "colorbar": {
              "outlinewidth": 0,
              "ticks": ""
             }
            },
            "type": "scattercarpet"
           }
          ],
          "scattergeo": [
           {
            "marker": {
             "colorbar": {
              "outlinewidth": 0,
              "ticks": ""
             }
            },
            "type": "scattergeo"
           }
          ],
          "scattergl": [
           {
            "marker": {
             "colorbar": {
              "outlinewidth": 0,
              "ticks": ""
             }
            },
            "type": "scattergl"
           }
          ],
          "scattermapbox": [
           {
            "marker": {
             "colorbar": {
              "outlinewidth": 0,
              "ticks": ""
             }
            },
            "type": "scattermapbox"
           }
          ],
          "scatterpolar": [
           {
            "marker": {
             "colorbar": {
              "outlinewidth": 0,
              "ticks": ""
             }
            },
            "type": "scatterpolar"
           }
          ],
          "scatterpolargl": [
           {
            "marker": {
             "colorbar": {
              "outlinewidth": 0,
              "ticks": ""
             }
            },
            "type": "scatterpolargl"
           }
          ],
          "scatterternary": [
           {
            "marker": {
             "colorbar": {
              "outlinewidth": 0,
              "ticks": ""
             }
            },
            "type": "scatterternary"
           }
          ],
          "surface": [
           {
            "colorbar": {
             "outlinewidth": 0,
             "ticks": ""
            },
            "colorscale": [
             [
              0,
              "#0d0887"
             ],
             [
              0.1111111111111111,
              "#46039f"
             ],
             [
              0.2222222222222222,
              "#7201a8"
             ],
             [
              0.3333333333333333,
              "#9c179e"
             ],
             [
              0.4444444444444444,
              "#bd3786"
             ],
             [
              0.5555555555555556,
              "#d8576b"
             ],
             [
              0.6666666666666666,
              "#ed7953"
             ],
             [
              0.7777777777777778,
              "#fb9f3a"
             ],
             [
              0.8888888888888888,
              "#fdca26"
             ],
             [
              1,
              "#f0f921"
             ]
            ],
            "type": "surface"
           }
          ],
          "table": [
           {
            "cells": {
             "fill": {
              "color": "#EBF0F8"
             },
             "line": {
              "color": "white"
             }
            },
            "header": {
             "fill": {
              "color": "#C8D4E3"
             },
             "line": {
              "color": "white"
             }
            },
            "type": "table"
           }
          ]
         },
         "layout": {
          "annotationdefaults": {
           "arrowcolor": "#2a3f5f",
           "arrowhead": 0,
           "arrowwidth": 1
          },
          "autotypenumbers": "strict",
          "coloraxis": {
           "colorbar": {
            "outlinewidth": 0,
            "ticks": ""
           }
          },
          "colorscale": {
           "diverging": [
            [
             0,
             "#8e0152"
            ],
            [
             0.1,
             "#c51b7d"
            ],
            [
             0.2,
             "#de77ae"
            ],
            [
             0.3,
             "#f1b6da"
            ],
            [
             0.4,
             "#fde0ef"
            ],
            [
             0.5,
             "#f7f7f7"
            ],
            [
             0.6,
             "#e6f5d0"
            ],
            [
             0.7,
             "#b8e186"
            ],
            [
             0.8,
             "#7fbc41"
            ],
            [
             0.9,
             "#4d9221"
            ],
            [
             1,
             "#276419"
            ]
           ],
           "sequential": [
            [
             0,
             "#0d0887"
            ],
            [
             0.1111111111111111,
             "#46039f"
            ],
            [
             0.2222222222222222,
             "#7201a8"
            ],
            [
             0.3333333333333333,
             "#9c179e"
            ],
            [
             0.4444444444444444,
             "#bd3786"
            ],
            [
             0.5555555555555556,
             "#d8576b"
            ],
            [
             0.6666666666666666,
             "#ed7953"
            ],
            [
             0.7777777777777778,
             "#fb9f3a"
            ],
            [
             0.8888888888888888,
             "#fdca26"
            ],
            [
             1,
             "#f0f921"
            ]
           ],
           "sequentialminus": [
            [
             0,
             "#0d0887"
            ],
            [
             0.1111111111111111,
             "#46039f"
            ],
            [
             0.2222222222222222,
             "#7201a8"
            ],
            [
             0.3333333333333333,
             "#9c179e"
            ],
            [
             0.4444444444444444,
             "#bd3786"
            ],
            [
             0.5555555555555556,
             "#d8576b"
            ],
            [
             0.6666666666666666,
             "#ed7953"
            ],
            [
             0.7777777777777778,
             "#fb9f3a"
            ],
            [
             0.8888888888888888,
             "#fdca26"
            ],
            [
             1,
             "#f0f921"
            ]
           ]
          },
          "colorway": [
           "#636efa",
           "#EF553B",
           "#00cc96",
           "#ab63fa",
           "#FFA15A",
           "#19d3f3",
           "#FF6692",
           "#B6E880",
           "#FF97FF",
           "#FECB52"
          ],
          "font": {
           "color": "#2a3f5f"
          },
          "geo": {
           "bgcolor": "white",
           "lakecolor": "white",
           "landcolor": "#E5ECF6",
           "showlakes": true,
           "showland": true,
           "subunitcolor": "white"
          },
          "hoverlabel": {
           "align": "left"
          },
          "hovermode": "closest",
          "mapbox": {
           "style": "light"
          },
          "paper_bgcolor": "white",
          "plot_bgcolor": "#E5ECF6",
          "polar": {
           "angularaxis": {
            "gridcolor": "white",
            "linecolor": "white",
            "ticks": ""
           },
           "bgcolor": "#E5ECF6",
           "radialaxis": {
            "gridcolor": "white",
            "linecolor": "white",
            "ticks": ""
           }
          },
          "scene": {
           "xaxis": {
            "backgroundcolor": "#E5ECF6",
            "gridcolor": "white",
            "gridwidth": 2,
            "linecolor": "white",
            "showbackground": true,
            "ticks": "",
            "zerolinecolor": "white"
           },
           "yaxis": {
            "backgroundcolor": "#E5ECF6",
            "gridcolor": "white",
            "gridwidth": 2,
            "linecolor": "white",
            "showbackground": true,
            "ticks": "",
            "zerolinecolor": "white"
           },
           "zaxis": {
            "backgroundcolor": "#E5ECF6",
            "gridcolor": "white",
            "gridwidth": 2,
            "linecolor": "white",
            "showbackground": true,
            "ticks": "",
            "zerolinecolor": "white"
           }
          },
          "shapedefaults": {
           "line": {
            "color": "#2a3f5f"
           }
          },
          "ternary": {
           "aaxis": {
            "gridcolor": "white",
            "linecolor": "white",
            "ticks": ""
           },
           "baxis": {
            "gridcolor": "white",
            "linecolor": "white",
            "ticks": ""
           },
           "bgcolor": "#E5ECF6",
           "caxis": {
            "gridcolor": "white",
            "linecolor": "white",
            "ticks": ""
           }
          },
          "title": {
           "x": 0.05
          },
          "xaxis": {
           "automargin": true,
           "gridcolor": "white",
           "linecolor": "white",
           "ticks": "",
           "title": {
            "standoff": 15
           },
           "zerolinecolor": "white",
           "zerolinewidth": 2
          },
          "yaxis": {
           "automargin": true,
           "gridcolor": "white",
           "linecolor": "white",
           "ticks": "",
           "title": {
            "standoff": 15
           },
           "zerolinecolor": "white",
           "zerolinewidth": 2
          }
         }
        },
        "xaxis": {
         "anchor": "y",
         "categoryarray": [
          "Baby Boomer",
          "X",
          "Millennials"
         ],
         "categoryorder": "array",
         "domain": [
          0,
          1
         ],
         "title": {
          "text": "GERACAO"
         }
        },
        "yaxis": {
         "anchor": "x",
         "domain": [
          0,
          1
         ],
         "title": {
          "text": "count"
         }
        }
       }
      }
     },
     "metadata": {},
     "output_type": "display_data"
    }
   ],
   "source": [
    "fig = px.histogram(vs_cad_basc, x='GERACAO', color='SAIU', text_auto=True, category_orders = {'GERACAO' : vs_cad_basc['GERACAO'].cat.categories})\n",
    "fig.show()"
   ]
  },
  {
   "cell_type": "code",
   "execution_count": 22,
   "metadata": {},
   "outputs": [
    {
     "data": {
      "application/vnd.plotly.v1+json": {
       "config": {
        "plotlyServerURL": "https://plot.ly"
       },
       "data": [
        {
         "alignmentgroup": "True",
         "bingroup": "x",
         "hovertemplate": "SAIU=1<br>GRAU_INSTR=%{x}<br>count=%{y}<extra></extra>",
         "legendgroup": "1",
         "marker": {
          "color": "#636efa",
          "pattern": {
           "shape": ""
          }
         },
         "name": "1",
         "offsetgroup": "1",
         "orientation": "v",
         "showlegend": true,
         "texttemplate": "%{value}",
         "type": "histogram",
         "x": [
          "SUPERIOR GRADUACAO",
          "MESTRADO",
          "POS-GRADUCAO-ESPEC",
          "ENSINO MEDIO",
          "ENSINO MEDIO",
          "POS-GRADUCAO-ESPEC",
          "POS-GRADUCAO-ESPEC",
          "POS-GRADUCAO-ESPEC",
          "POS-GRADUCAO-ESPEC",
          "SUPERIOR GRADUACAO",
          "POS-GRADUCAO-ESPEC",
          "POS-GRADUCAO-ESPEC",
          "POS-GRADUCAO-ESPEC",
          "POS-GRADUCAO-ESPEC",
          "POS-GRADUCAO-ESPEC",
          "POS-GRADUCAO-ESPEC",
          "POS-GRADUCAO-ESPEC",
          "ENSINO FUNDAMENTAL",
          "POS-GRADUCAO-ESPEC",
          "POS-GRADUCAO-ESPEC",
          "POS-GRADUCAO-ESPEC",
          "POS-GRADUCAO-ESPEC",
          "POS-GRADUCAO-ESPEC",
          "ENSINO MEDIO",
          "POS-GRADUCAO-ESPEC",
          "POS-GRADUCAO-ESPEC",
          "POS-GRADUCAO-ESPEC",
          "MESTRADO",
          "POS-GRADUCAO-ESPEC",
          "POS-GRADUCAO-ESPEC",
          "POS-GRADUCAO-ESPEC",
          "POS-GRADUCAO-ESPEC",
          "POS-GRADUCAO-ESPEC",
          "POS-GRADUCAO-ESPEC",
          "POS-GRADUCAO-ESPEC",
          "SUPERIOR GRADUACAO",
          "POS-GRADUCAO-ESPEC",
          "POS-GRADUCAO-ESPEC",
          "POS-GRADUCAO-ESPEC",
          "POS-GRADUCAO-ESPEC",
          "POS-GRADUCAO-ESPEC",
          "POS-GRADUCAO-ESPEC",
          "POS-GRADUCAO-ESPEC",
          "POS-GRADUCAO-ESPEC",
          "POS-GRADUCAO-ESPEC",
          "POS-GRADUCAO-ESPEC",
          "SUPERIOR GRADUACAO",
          "POS-GRADUCAO-ESPEC",
          "POS-GRADUCAO-ESPEC",
          "POS-GRADUCAO-ESPEC",
          "POS-GRADUCAO-ESPEC",
          "DOUTORADO",
          "POS-GRADUCAO-ESPEC",
          "POS-GRADUCAO-ESPEC",
          "POS-GRADUCAO-ESPEC",
          "POS-GRADUCAO-ESPEC",
          "SUPERIOR GRADUACAO",
          "POS-GRADUCAO-ESPEC",
          "POS-GRADUCAO-ESPEC",
          "POS-GRADUCAO-ESPEC",
          "POS-GRADUCAO-ESPEC",
          "POS-GRADUCAO-ESPEC",
          "POS-GRADUCAO-ESPEC",
          "POS-GRADUCAO-ESPEC",
          "POS-GRADUCAO-ESPEC",
          "POS-GRADUCAO-ESPEC",
          "SUPERIOR GRADUACAO",
          "POS-GRADUCAO-ESPEC",
          "POS-GRADUCAO-ESPEC",
          "POS-GRADUCAO-ESPEC",
          "POS-GRADUCAO-ESPEC",
          "ENSINO FUNDAMENTAL",
          "MESTRADO",
          "POS-GRADUCAO-ESPEC",
          "POS-GRADUCAO-ESPEC",
          "POS-GRADUCAO-ESPEC",
          "SUPERIOR GRADUACAO",
          "POS-GRADUCAO-ESPEC",
          "POS-GRADUCAO-ESPEC",
          "POS-GRADUCAO-ESPEC",
          "SUPERIOR GRADUACAO",
          "POS-GRADUCAO-ESPEC",
          "POS-GRADUCAO-ESPEC",
          "ENSINO FUNDAMENTAL",
          "POS-GRADUCAO-ESPEC",
          "POS-GRADUCAO-ESPEC",
          "POS-GRADUCAO-ESPEC",
          "ENSINO FUNDAMENTAL",
          "ENSINO MEDIO",
          "POS-GRADUCAO-ESPEC",
          "ENSINO MEDIO",
          "ENSINO MEDIO",
          "POS-GRADUCAO-ESPEC",
          "MESTRADO",
          "POS-GRADUCAO-ESPEC",
          "POS-GRADUCAO-ESPEC",
          "POS-GRADUCAO-ESPEC",
          "ENSINO FUNDAMENTAL",
          "POS-GRADUCAO-ESPEC",
          "ENSINO FUNDAMENTAL",
          "POS-GRADUCAO-ESPEC",
          "SUPERIOR GRADUACAO",
          "POS-GRADUCAO-ESPEC",
          "ENSINO MEDIO",
          "POS-GRADUCAO-ESPEC",
          "POS-GRADUCAO-ESPEC",
          "POS-GRADUCAO-ESPEC",
          "POS-GRADUCAO-ESPEC",
          "POS-GRADUCAO-ESPEC",
          "POS-GRADUCAO-ESPEC",
          "POS-GRADUCAO-ESPEC",
          "ENSINO FUNDAMENTAL",
          "POS-GRADUCAO-ESPEC",
          "POS-GRADUCAO-ESPEC",
          "POS-GRADUCAO-ESPEC",
          "POS-GRADUCAO-ESPEC",
          "POS-GRADUCAO-ESPEC",
          "POS-GRADUCAO-ESPEC",
          "SUPERIOR GRADUACAO",
          "POS-GRADUCAO-ESPEC",
          "POS-GRADUCAO-ESPEC",
          "POS-GRADUCAO-ESPEC",
          "POS-GRADUCAO-ESPEC",
          "DOUTORADO",
          "POS-GRADUCAO-ESPEC",
          "POS-GRADUCAO-ESPEC",
          "MESTRADO",
          "SUPERIOR GRADUACAO",
          "POS-GRADUCAO-ESPEC",
          "POS-GRADUCAO-ESPEC",
          "POS-GRADUCAO-ESPEC",
          "POS-GRADUCAO-ESPEC",
          "POS-GRADUCAO-ESPEC",
          "SUPERIOR GRADUACAO",
          "POS-GRADUCAO-ESPEC",
          "ENSINO FUNDAMENTAL",
          "MESTRADO",
          "POS-GRADUCAO-ESPEC",
          "POS-GRADUCAO-ESPEC",
          "POS-GRADUCAO-ESPEC",
          "POS-GRADUCAO-ESPEC",
          "POS-GRADUCAO-ESPEC",
          "POS-GRADUCAO-ESPEC",
          "POS-GRADUCAO-ESPEC",
          "MESTRADO",
          "POS-GRADUCAO-ESPEC",
          "SUPERIOR EM ANDAMENT",
          "POS-GRADUCAO-ESPEC",
          "POS-GRADUCAO-ESPEC",
          "POS-GRADUCAO-ESPEC",
          "ENSINO FUNDAMENTAL",
          "POS-GRADUCAO-ESPEC",
          "POS-GRADUCAO-ESPEC",
          "ENSINO FUNDAMENTAL",
          "POS-GRADUCAO-ESPEC",
          "POS-GRADUCAO-ESPEC",
          "POS-GRADUCAO-ESPEC",
          "POS-GRADUCAO-ESPEC",
          "POS-GRADUCAO-ESPEC",
          "POS-GRADUCAO-ESPEC",
          "POS-GRADUCAO-ESPEC",
          "POS-GRADUCAO-ESPEC",
          "SUPERIOR GRADUACAO",
          "POS-GRADUCAO-ESPEC",
          "POS-GRADUCAO-ESPEC",
          "POS-GRADUCAO-ESPEC",
          "POS-GRADUCAO-ESPEC",
          "POS-GRADUCAO-ESPEC",
          "POS-GRADUCAO-ESPEC",
          "POS-GRADUCAO-ESPEC",
          "SUPERIOR GRADUACAO",
          "ENSINO MEDIO",
          "POS-GRADUCAO-ESPEC",
          "POS-GRADUCAO-ESPEC",
          "ENSINO MEDIO",
          "POS-GRADUCAO-ESPEC",
          "POS-GRADUCAO-ESPEC",
          "MESTRADO",
          "POS-GRADUCAO-ESPEC",
          "POS-GRADUCAO-ESPEC",
          "POS-GRADUCAO-ESPEC",
          "ENSINO MEDIO",
          "ENSINO FUNDAMENTAL",
          "POS-GRADUCAO-ESPEC",
          "POS-GRADUCAO-ESPEC",
          "POS-GRADUCAO-ESPEC",
          "POS-GRADUCAO-ESPEC",
          "POS-GRADUCAO-ESPEC",
          "POS-GRADUCAO-ESPEC",
          "POS-GRADUCAO-ESPEC",
          "POS-GRADUCAO-ESPEC",
          "POS-GRADUCAO-ESPEC",
          "POS-GRADUCAO-ESPEC",
          "POS-GRADUCAO-ESPEC"
         ],
         "xaxis": "x",
         "yaxis": "y"
        },
        {
         "alignmentgroup": "True",
         "bingroup": "x",
         "hovertemplate": "SAIU=0<br>GRAU_INSTR=%{x}<br>count=%{y}<extra></extra>",
         "legendgroup": "0",
         "marker": {
          "color": "#EF553B",
          "pattern": {
           "shape": ""
          }
         },
         "name": "0",
         "offsetgroup": "0",
         "orientation": "v",
         "showlegend": true,
         "texttemplate": "%{value}",
         "type": "histogram",
         "x": [
          "POS-GRADUCAO-ESPEC",
          "POS-GRADUCAO-ESPEC",
          "POS-GRADUCAO-ESPEC",
          "POS-GRADUCAO-ESPEC",
          "SUPERIOR GRADUACAO",
          "POS-GRADUCAO-ESPEC",
          "POS-GRADUCAO-ESPEC",
          "POS-GRADUCAO-ESPEC",
          "POS-GRADUCAO-ESPEC",
          "POS-GRADUCAO-ESPEC",
          "POS-GRADUCAO-ESPEC",
          "SUPERIOR GRADUACAO",
          "POS-GRADUCAO-ESPEC",
          "POS-GRADUCAO-ESPEC",
          "POS-GRADUCAO-ESPEC",
          "POS-GRADUCAO-ESPEC",
          "POS-GRADUCAO-ESPEC",
          "POS-GRADUCAO-ESPEC",
          "POS-GRADUCAO-ESPEC",
          "POS-GRADUCAO-ESPEC",
          "SUPERIOR GRADUACAO",
          "POS-GRADUCAO-ESPEC",
          "MESTRADO",
          "POS-GRADUCAO-ESPEC",
          "POS-GRADUCAO-ESPEC",
          "POS-GRADUCAO-ESPEC",
          "POS-GRADUCAO-ESPEC",
          "POS-GRADUCAO-ESPEC",
          "POS-GRADUCAO-ESPEC",
          "POS-GRADUCAO-ESPEC",
          "POS-GRADUCAO-ESPEC",
          "POS-GRADUCAO-ESPEC",
          "POS-GRADUCAO-ESPEC",
          "POS-GRADUCAO-ESPEC",
          "POS-GRADUCAO-ESPEC",
          "POS-GRADUCAO-ESPEC",
          "SUPERIOR GRADUACAO",
          "POS-GRADUCAO-ESPEC",
          "POS-GRADUCAO-ESPEC",
          "POS-GRADUCAO-ESPEC",
          "POS-GRADUCAO-ESPEC",
          "POS-GRADUCAO-ESPEC",
          "POS-GRADUCAO-ESPEC",
          "POS-GRADUCAO-ESPEC",
          "POS-GRADUCAO-ESPEC",
          "POS-GRADUCAO-ESPEC",
          "POS-GRADUCAO-ESPEC",
          "POS-GRADUCAO-ESPEC",
          "POS-GRADUCAO-ESPEC",
          "SUPERIOR GRADUACAO",
          "POS-GRADUCAO-ESPEC",
          "POS-GRADUCAO-ESPEC",
          "POS-GRADUCAO-ESPEC",
          "POS-GRADUCAO-ESPEC",
          "POS-GRADUCAO-ESPEC",
          "POS-GRADUCAO-ESPEC",
          "POS-GRADUCAO-ESPEC",
          "POS-GRADUCAO-ESPEC",
          "POS-GRADUCAO-ESPEC",
          "POS-GRADUCAO-ESPEC",
          "POS-GRADUCAO-ESPEC",
          "POS-GRADUCAO-ESPEC",
          "SUPERIOR GRADUACAO",
          "POS-GRADUCAO-ESPEC",
          "POS-GRADUCAO-ESPEC",
          "POS-GRADUCAO-ESPEC",
          "POS-GRADUCAO-ESPEC",
          "POS-GRADUCAO-ESPEC",
          "POS-GRADUCAO-ESPEC",
          "POS-GRADUCAO-ESPEC",
          "POS-GRADUCAO-ESPEC",
          "POS-GRADUCAO-ESPEC",
          "POS-GRADUCAO-ESPEC",
          "POS-GRADUCAO-ESPEC",
          "POS-GRADUCAO-ESPEC",
          "POS-GRADUCAO-ESPEC",
          "POS-GRADUCAO-ESPEC",
          "SUPERIOR GRADUACAO",
          "POS-GRADUCAO-ESPEC",
          "POS-GRADUCAO-ESPEC",
          "POS-GRADUCAO-ESPEC",
          "POS-GRADUCAO-ESPEC",
          "SUPERIOR GRADUACAO",
          "POS-GRADUCAO-ESPEC",
          "POS-GRADUCAO-ESPEC",
          "POS-GRADUCAO-ESPEC",
          "POS-GRADUCAO-ESPEC",
          "POS-GRADUCAO-ESPEC",
          "POS-GRADUCAO-ESPEC",
          "POS-GRADUCAO-ESPEC",
          "POS-GRADUCAO-ESPEC",
          "POS-GRADUCAO-ESPEC",
          "SUPERIOR GRADUACAO",
          "POS-GRADUCAO-ESPEC",
          "POS-GRADUCAO-ESPEC",
          "POS-GRADUCAO-ESPEC",
          "SUPERIOR GRADUACAO",
          "POS-GRADUCAO-ESPEC",
          "SUPERIOR GRADUACAO",
          "POS-GRADUCAO-ESPEC",
          "POS-GRADUCAO-ESPEC",
          "POS-GRADUCAO-ESPEC",
          "POS-GRADUCAO-ESPEC",
          "POS-GRADUCAO-ESPEC",
          "POS-GRADUCAO-ESPEC",
          "POS-GRADUCAO-ESPEC",
          "POS-GRADUCAO-ESPEC",
          "SUPERIOR GRADUACAO",
          "POS-GRADUCAO-ESPEC",
          "POS-GRADUCAO-ESPEC",
          "POS-GRADUCAO-ESPEC",
          "POS-GRADUCAO-ESPEC",
          "POS-GRADUCAO-ESPEC",
          "POS-GRADUCAO-ESPEC",
          "POS-GRADUCAO-ESPEC",
          "POS-GRADUCAO-ESPEC",
          "POS-GRADUCAO-ESPEC",
          "POS-GRADUCAO-ESPEC",
          "POS-GRADUCAO-ESPEC",
          "POS-GRADUCAO-ESPEC",
          "POS-GRADUCAO-ESPEC",
          "POS-GRADUCAO-ESPEC",
          "POS-GRADUCAO-ESPEC",
          "POS-GRADUCAO-ESPEC",
          "POS-GRADUCAO-ESPEC",
          "POS-GRADUCAO-ESPEC",
          "POS-GRADUCAO-ESPEC",
          "POS-GRADUCAO-ESPEC",
          "POS-GRADUCAO-ESPEC",
          "SUPERIOR GRADUACAO",
          "POS-GRADUCAO-ESPEC",
          "POS-GRADUCAO-ESPEC",
          "POS-GRADUCAO-ESPEC",
          "POS-GRADUCAO-ESPEC",
          "POS-GRADUCAO-ESPEC",
          "POS-GRADUCAO-ESPEC",
          "POS-GRADUCAO-ESPEC",
          "POS-GRADUCAO-ESPEC",
          "ENSINO MEDIO",
          "SUPERIOR GRADUACAO",
          "POS-GRADUCAO-ESPEC",
          "POS-GRADUCAO-ESPEC",
          "POS-GRADUCAO-ESPEC",
          "POS-GRADUCAO-ESPEC",
          "POS-GRADUCAO-ESPEC",
          "POS-GRADUCAO-ESPEC",
          "POS-GRADUCAO-ESPEC",
          "POS-GRADUCAO-ESPEC",
          "POS-GRADUCAO-ESPEC",
          "POS-GRADUCAO-ESPEC",
          "POS-GRADUCAO-ESPEC",
          "POS-GRADUCAO-ESPEC",
          "POS-GRADUCAO-ESPEC",
          "MESTRADO",
          "SUPERIOR GRADUACAO",
          "POS-GRADUCAO-ESPEC",
          "SUPERIOR GRADUACAO",
          "POS-GRADUCAO-ESPEC",
          "POS-GRADUCAO-ESPEC",
          "SUPERIOR GRADUACAO",
          "POS-GRADUCAO-ESPEC",
          "POS-GRADUCAO-ESPEC",
          "POS-GRADUCAO-ESPEC",
          "POS-GRADUCAO-ESPEC",
          "POS-GRADUCAO-ESPEC",
          "SUPERIOR EM ANDAMENT",
          "POS-GRADUCAO-ESPEC",
          "SUPERIOR GRADUACAO",
          "POS-GRADUCAO-ESPEC",
          "POS-GRADUCAO-ESPEC",
          "POS-GRADUCAO-ESPEC",
          "POS-GRADUCAO-ESPEC",
          "POS-GRADUCAO-ESPEC",
          "POS-GRADUCAO-ESPEC",
          "POS-GRADUCAO-ESPEC",
          "POS-GRADUCAO-ESPEC",
          "POS-GRADUCAO-ESPEC",
          "POS-GRADUCAO-ESPEC",
          "MESTRADO",
          "POS-GRADUCAO-ESPEC",
          "POS-GRADUCAO-ESPEC",
          "SUPERIOR GRADUACAO",
          "POS-GRADUCAO-ESPEC",
          "POS-GRADUCAO-ESPEC",
          "POS-GRADUCAO-ESPEC",
          "POS-GRADUCAO-ESPEC",
          "POS-GRADUCAO-ESPEC",
          "POS-GRADUCAO-ESPEC",
          "POS-GRADUCAO-ESPEC",
          "POS-GRADUCAO-ESPEC",
          "SUPERIOR EM ANDAMENT",
          "POS-GRADUCAO-ESPEC",
          "POS-GRADUCAO-ESPEC",
          "POS-GRADUCAO-ESPEC",
          "POS-GRADUCAO-ESPEC",
          "POS-GRADUCAO-ESPEC",
          "POS-GRADUCAO-ESPEC",
          "POS-GRADUCAO-ESPEC",
          "POS-GRADUCAO-ESPEC",
          "POS-GRADUCAO-ESPEC",
          "POS-GRADUCAO-ESPEC",
          "POS-GRADUCAO-ESPEC",
          "POS-GRADUCAO-ESPEC",
          "SUPERIOR GRADUACAO",
          "POS-GRADUCAO-ESPEC",
          "POS-GRADUCAO-ESPEC",
          "POS-GRADUCAO-ESPEC",
          "POS-GRADUCAO-ESPEC",
          "POS-GRADUCAO-ESPEC",
          "POS-GRADUCAO-ESPEC",
          "POS-GRADUCAO-ESPEC",
          "POS-GRADUCAO-ESPEC",
          "POS-GRADUCAO-ESPEC",
          "POS-GRADUCAO-ESPEC",
          "POS-GRADUCAO-ESPEC",
          "POS-GRADUCAO-ESPEC",
          "POS-GRADUCAO-ESPEC",
          "POS-GRADUCAO-ESPEC",
          "POS-GRADUCAO-ESPEC",
          "POS-GRADUCAO-ESPEC",
          "POS-GRADUCAO-ESPEC",
          "POS-GRADUCAO-ESPEC",
          "POS-GRADUCAO-ESPEC",
          "POS-GRADUCAO-ESPEC",
          "POS-GRADUCAO-ESPEC",
          "POS-GRADUCAO-ESPEC",
          "POS-GRADUCAO-ESPEC",
          "POS-GRADUCAO-ESPEC",
          "POS-GRADUCAO-ESPEC",
          "SUPERIOR GRADUACAO",
          "POS-GRADUCAO-ESPEC",
          "POS-GRADUCAO-ESPEC",
          "POS-GRADUCAO-ESPEC",
          "POS-GRADUCAO-ESPEC",
          "POS-GRADUCAO-ESPEC",
          "POS-GRADUCAO-ESPEC",
          "POS-GRADUCAO-ESPEC",
          "POS-GRADUCAO-ESPEC",
          "POS-GRADUCAO-ESPEC",
          "SUPERIOR GRADUACAO",
          "POS-GRADUCAO-ESPEC",
          "SUPERIOR GRADUACAO",
          "POS-GRADUCAO-ESPEC",
          "POS-GRADUCAO-ESPEC",
          "POS-GRADUCAO-ESPEC",
          "POS-GRADUCAO-ESPEC",
          "POS-GRADUCAO-ESPEC",
          "POS-GRADUCAO-ESPEC",
          "MESTRADO",
          "POS-GRADUCAO-ESPEC",
          "POS-GRADUCAO-ESPEC",
          "POS-GRADUCAO-ESPEC",
          "SUPERIOR GRADUACAO",
          "POS-GRADUCAO-ESPEC",
          "POS-GRADUCAO-ESPEC",
          "POS-GRADUCAO-ESPEC",
          "POS-GRADUCAO-ESPEC",
          "POS-GRADUCAO-ESPEC",
          "POS-GRADUCAO-ESPEC",
          "POS-GRADUCAO-ESPEC",
          "POS-GRADUCAO-ESPEC",
          "POS-GRADUCAO-ESPEC",
          "POS-GRADUCAO-ESPEC",
          "POS-GRADUCAO-ESPEC",
          "POS-GRADUCAO-ESPEC",
          "MESTRADO",
          "SUPERIOR EM ANDAMENT",
          "POS-GRADUCAO-ESPEC",
          "POS-GRADUCAO-ESPEC",
          "POS-GRADUCAO-ESPEC",
          "POS-GRADUCAO-ESPEC",
          "SUPERIOR GRADUACAO",
          "POS-GRADUCAO-ESPEC",
          "POS-GRADUCAO-ESPEC",
          "POS-GRADUCAO-ESPEC",
          "POS-GRADUCAO-ESPEC",
          "SUPERIOR GRADUACAO"
         ],
         "xaxis": "x",
         "yaxis": "y"
        }
       ],
       "layout": {
        "barmode": "relative",
        "legend": {
         "title": {
          "text": "SAIU"
         },
         "tracegroupgap": 0
        },
        "margin": {
         "t": 60
        },
        "template": {
         "data": {
          "bar": [
           {
            "error_x": {
             "color": "#2a3f5f"
            },
            "error_y": {
             "color": "#2a3f5f"
            },
            "marker": {
             "line": {
              "color": "#E5ECF6",
              "width": 0.5
             },
             "pattern": {
              "fillmode": "overlay",
              "size": 10,
              "solidity": 0.2
             }
            },
            "type": "bar"
           }
          ],
          "barpolar": [
           {
            "marker": {
             "line": {
              "color": "#E5ECF6",
              "width": 0.5
             },
             "pattern": {
              "fillmode": "overlay",
              "size": 10,
              "solidity": 0.2
             }
            },
            "type": "barpolar"
           }
          ],
          "carpet": [
           {
            "aaxis": {
             "endlinecolor": "#2a3f5f",
             "gridcolor": "white",
             "linecolor": "white",
             "minorgridcolor": "white",
             "startlinecolor": "#2a3f5f"
            },
            "baxis": {
             "endlinecolor": "#2a3f5f",
             "gridcolor": "white",
             "linecolor": "white",
             "minorgridcolor": "white",
             "startlinecolor": "#2a3f5f"
            },
            "type": "carpet"
           }
          ],
          "choropleth": [
           {
            "colorbar": {
             "outlinewidth": 0,
             "ticks": ""
            },
            "type": "choropleth"
           }
          ],
          "contour": [
           {
            "colorbar": {
             "outlinewidth": 0,
             "ticks": ""
            },
            "colorscale": [
             [
              0,
              "#0d0887"
             ],
             [
              0.1111111111111111,
              "#46039f"
             ],
             [
              0.2222222222222222,
              "#7201a8"
             ],
             [
              0.3333333333333333,
              "#9c179e"
             ],
             [
              0.4444444444444444,
              "#bd3786"
             ],
             [
              0.5555555555555556,
              "#d8576b"
             ],
             [
              0.6666666666666666,
              "#ed7953"
             ],
             [
              0.7777777777777778,
              "#fb9f3a"
             ],
             [
              0.8888888888888888,
              "#fdca26"
             ],
             [
              1,
              "#f0f921"
             ]
            ],
            "type": "contour"
           }
          ],
          "contourcarpet": [
           {
            "colorbar": {
             "outlinewidth": 0,
             "ticks": ""
            },
            "type": "contourcarpet"
           }
          ],
          "heatmap": [
           {
            "colorbar": {
             "outlinewidth": 0,
             "ticks": ""
            },
            "colorscale": [
             [
              0,
              "#0d0887"
             ],
             [
              0.1111111111111111,
              "#46039f"
             ],
             [
              0.2222222222222222,
              "#7201a8"
             ],
             [
              0.3333333333333333,
              "#9c179e"
             ],
             [
              0.4444444444444444,
              "#bd3786"
             ],
             [
              0.5555555555555556,
              "#d8576b"
             ],
             [
              0.6666666666666666,
              "#ed7953"
             ],
             [
              0.7777777777777778,
              "#fb9f3a"
             ],
             [
              0.8888888888888888,
              "#fdca26"
             ],
             [
              1,
              "#f0f921"
             ]
            ],
            "type": "heatmap"
           }
          ],
          "heatmapgl": [
           {
            "colorbar": {
             "outlinewidth": 0,
             "ticks": ""
            },
            "colorscale": [
             [
              0,
              "#0d0887"
             ],
             [
              0.1111111111111111,
              "#46039f"
             ],
             [
              0.2222222222222222,
              "#7201a8"
             ],
             [
              0.3333333333333333,
              "#9c179e"
             ],
             [
              0.4444444444444444,
              "#bd3786"
             ],
             [
              0.5555555555555556,
              "#d8576b"
             ],
             [
              0.6666666666666666,
              "#ed7953"
             ],
             [
              0.7777777777777778,
              "#fb9f3a"
             ],
             [
              0.8888888888888888,
              "#fdca26"
             ],
             [
              1,
              "#f0f921"
             ]
            ],
            "type": "heatmapgl"
           }
          ],
          "histogram": [
           {
            "marker": {
             "pattern": {
              "fillmode": "overlay",
              "size": 10,
              "solidity": 0.2
             }
            },
            "type": "histogram"
           }
          ],
          "histogram2d": [
           {
            "colorbar": {
             "outlinewidth": 0,
             "ticks": ""
            },
            "colorscale": [
             [
              0,
              "#0d0887"
             ],
             [
              0.1111111111111111,
              "#46039f"
             ],
             [
              0.2222222222222222,
              "#7201a8"
             ],
             [
              0.3333333333333333,
              "#9c179e"
             ],
             [
              0.4444444444444444,
              "#bd3786"
             ],
             [
              0.5555555555555556,
              "#d8576b"
             ],
             [
              0.6666666666666666,
              "#ed7953"
             ],
             [
              0.7777777777777778,
              "#fb9f3a"
             ],
             [
              0.8888888888888888,
              "#fdca26"
             ],
             [
              1,
              "#f0f921"
             ]
            ],
            "type": "histogram2d"
           }
          ],
          "histogram2dcontour": [
           {
            "colorbar": {
             "outlinewidth": 0,
             "ticks": ""
            },
            "colorscale": [
             [
              0,
              "#0d0887"
             ],
             [
              0.1111111111111111,
              "#46039f"
             ],
             [
              0.2222222222222222,
              "#7201a8"
             ],
             [
              0.3333333333333333,
              "#9c179e"
             ],
             [
              0.4444444444444444,
              "#bd3786"
             ],
             [
              0.5555555555555556,
              "#d8576b"
             ],
             [
              0.6666666666666666,
              "#ed7953"
             ],
             [
              0.7777777777777778,
              "#fb9f3a"
             ],
             [
              0.8888888888888888,
              "#fdca26"
             ],
             [
              1,
              "#f0f921"
             ]
            ],
            "type": "histogram2dcontour"
           }
          ],
          "mesh3d": [
           {
            "colorbar": {
             "outlinewidth": 0,
             "ticks": ""
            },
            "type": "mesh3d"
           }
          ],
          "parcoords": [
           {
            "line": {
             "colorbar": {
              "outlinewidth": 0,
              "ticks": ""
             }
            },
            "type": "parcoords"
           }
          ],
          "pie": [
           {
            "automargin": true,
            "type": "pie"
           }
          ],
          "scatter": [
           {
            "fillpattern": {
             "fillmode": "overlay",
             "size": 10,
             "solidity": 0.2
            },
            "type": "scatter"
           }
          ],
          "scatter3d": [
           {
            "line": {
             "colorbar": {
              "outlinewidth": 0,
              "ticks": ""
             }
            },
            "marker": {
             "colorbar": {
              "outlinewidth": 0,
              "ticks": ""
             }
            },
            "type": "scatter3d"
           }
          ],
          "scattercarpet": [
           {
            "marker": {
             "colorbar": {
              "outlinewidth": 0,
              "ticks": ""
             }
            },
            "type": "scattercarpet"
           }
          ],
          "scattergeo": [
           {
            "marker": {
             "colorbar": {
              "outlinewidth": 0,
              "ticks": ""
             }
            },
            "type": "scattergeo"
           }
          ],
          "scattergl": [
           {
            "marker": {
             "colorbar": {
              "outlinewidth": 0,
              "ticks": ""
             }
            },
            "type": "scattergl"
           }
          ],
          "scattermapbox": [
           {
            "marker": {
             "colorbar": {
              "outlinewidth": 0,
              "ticks": ""
             }
            },
            "type": "scattermapbox"
           }
          ],
          "scatterpolar": [
           {
            "marker": {
             "colorbar": {
              "outlinewidth": 0,
              "ticks": ""
             }
            },
            "type": "scatterpolar"
           }
          ],
          "scatterpolargl": [
           {
            "marker": {
             "colorbar": {
              "outlinewidth": 0,
              "ticks": ""
             }
            },
            "type": "scatterpolargl"
           }
          ],
          "scatterternary": [
           {
            "marker": {
             "colorbar": {
              "outlinewidth": 0,
              "ticks": ""
             }
            },
            "type": "scatterternary"
           }
          ],
          "surface": [
           {
            "colorbar": {
             "outlinewidth": 0,
             "ticks": ""
            },
            "colorscale": [
             [
              0,
              "#0d0887"
             ],
             [
              0.1111111111111111,
              "#46039f"
             ],
             [
              0.2222222222222222,
              "#7201a8"
             ],
             [
              0.3333333333333333,
              "#9c179e"
             ],
             [
              0.4444444444444444,
              "#bd3786"
             ],
             [
              0.5555555555555556,
              "#d8576b"
             ],
             [
              0.6666666666666666,
              "#ed7953"
             ],
             [
              0.7777777777777778,
              "#fb9f3a"
             ],
             [
              0.8888888888888888,
              "#fdca26"
             ],
             [
              1,
              "#f0f921"
             ]
            ],
            "type": "surface"
           }
          ],
          "table": [
           {
            "cells": {
             "fill": {
              "color": "#EBF0F8"
             },
             "line": {
              "color": "white"
             }
            },
            "header": {
             "fill": {
              "color": "#C8D4E3"
             },
             "line": {
              "color": "white"
             }
            },
            "type": "table"
           }
          ]
         },
         "layout": {
          "annotationdefaults": {
           "arrowcolor": "#2a3f5f",
           "arrowhead": 0,
           "arrowwidth": 1
          },
          "autotypenumbers": "strict",
          "coloraxis": {
           "colorbar": {
            "outlinewidth": 0,
            "ticks": ""
           }
          },
          "colorscale": {
           "diverging": [
            [
             0,
             "#8e0152"
            ],
            [
             0.1,
             "#c51b7d"
            ],
            [
             0.2,
             "#de77ae"
            ],
            [
             0.3,
             "#f1b6da"
            ],
            [
             0.4,
             "#fde0ef"
            ],
            [
             0.5,
             "#f7f7f7"
            ],
            [
             0.6,
             "#e6f5d0"
            ],
            [
             0.7,
             "#b8e186"
            ],
            [
             0.8,
             "#7fbc41"
            ],
            [
             0.9,
             "#4d9221"
            ],
            [
             1,
             "#276419"
            ]
           ],
           "sequential": [
            [
             0,
             "#0d0887"
            ],
            [
             0.1111111111111111,
             "#46039f"
            ],
            [
             0.2222222222222222,
             "#7201a8"
            ],
            [
             0.3333333333333333,
             "#9c179e"
            ],
            [
             0.4444444444444444,
             "#bd3786"
            ],
            [
             0.5555555555555556,
             "#d8576b"
            ],
            [
             0.6666666666666666,
             "#ed7953"
            ],
            [
             0.7777777777777778,
             "#fb9f3a"
            ],
            [
             0.8888888888888888,
             "#fdca26"
            ],
            [
             1,
             "#f0f921"
            ]
           ],
           "sequentialminus": [
            [
             0,
             "#0d0887"
            ],
            [
             0.1111111111111111,
             "#46039f"
            ],
            [
             0.2222222222222222,
             "#7201a8"
            ],
            [
             0.3333333333333333,
             "#9c179e"
            ],
            [
             0.4444444444444444,
             "#bd3786"
            ],
            [
             0.5555555555555556,
             "#d8576b"
            ],
            [
             0.6666666666666666,
             "#ed7953"
            ],
            [
             0.7777777777777778,
             "#fb9f3a"
            ],
            [
             0.8888888888888888,
             "#fdca26"
            ],
            [
             1,
             "#f0f921"
            ]
           ]
          },
          "colorway": [
           "#636efa",
           "#EF553B",
           "#00cc96",
           "#ab63fa",
           "#FFA15A",
           "#19d3f3",
           "#FF6692",
           "#B6E880",
           "#FF97FF",
           "#FECB52"
          ],
          "font": {
           "color": "#2a3f5f"
          },
          "geo": {
           "bgcolor": "white",
           "lakecolor": "white",
           "landcolor": "#E5ECF6",
           "showlakes": true,
           "showland": true,
           "subunitcolor": "white"
          },
          "hoverlabel": {
           "align": "left"
          },
          "hovermode": "closest",
          "mapbox": {
           "style": "light"
          },
          "paper_bgcolor": "white",
          "plot_bgcolor": "#E5ECF6",
          "polar": {
           "angularaxis": {
            "gridcolor": "white",
            "linecolor": "white",
            "ticks": ""
           },
           "bgcolor": "#E5ECF6",
           "radialaxis": {
            "gridcolor": "white",
            "linecolor": "white",
            "ticks": ""
           }
          },
          "scene": {
           "xaxis": {
            "backgroundcolor": "#E5ECF6",
            "gridcolor": "white",
            "gridwidth": 2,
            "linecolor": "white",
            "showbackground": true,
            "ticks": "",
            "zerolinecolor": "white"
           },
           "yaxis": {
            "backgroundcolor": "#E5ECF6",
            "gridcolor": "white",
            "gridwidth": 2,
            "linecolor": "white",
            "showbackground": true,
            "ticks": "",
            "zerolinecolor": "white"
           },
           "zaxis": {
            "backgroundcolor": "#E5ECF6",
            "gridcolor": "white",
            "gridwidth": 2,
            "linecolor": "white",
            "showbackground": true,
            "ticks": "",
            "zerolinecolor": "white"
           }
          },
          "shapedefaults": {
           "line": {
            "color": "#2a3f5f"
           }
          },
          "ternary": {
           "aaxis": {
            "gridcolor": "white",
            "linecolor": "white",
            "ticks": ""
           },
           "baxis": {
            "gridcolor": "white",
            "linecolor": "white",
            "ticks": ""
           },
           "bgcolor": "#E5ECF6",
           "caxis": {
            "gridcolor": "white",
            "linecolor": "white",
            "ticks": ""
           }
          },
          "title": {
           "x": 0.05
          },
          "xaxis": {
           "automargin": true,
           "gridcolor": "white",
           "linecolor": "white",
           "ticks": "",
           "title": {
            "standoff": 15
           },
           "zerolinecolor": "white",
           "zerolinewidth": 2
          },
          "yaxis": {
           "automargin": true,
           "gridcolor": "white",
           "linecolor": "white",
           "ticks": "",
           "title": {
            "standoff": 15
           },
           "zerolinecolor": "white",
           "zerolinewidth": 2
          }
         }
        },
        "xaxis": {
         "anchor": "y",
         "categoryarray": [
          "ENSINO FUNDAMENTAL",
          "ENSINO MEDIO",
          "SUPERIOR EM ANDAMENT",
          "SUPERIOR GRADUACAO",
          "POS-GRADUCAO-ESPEC",
          "MESTRADO",
          "DOUTORADO"
         ],
         "categoryorder": "array",
         "domain": [
          0,
          1
         ],
         "title": {
          "text": "GRAU_INSTR"
         }
        },
        "yaxis": {
         "anchor": "x",
         "domain": [
          0,
          1
         ],
         "title": {
          "text": "count"
         }
        }
       }
      }
     },
     "metadata": {},
     "output_type": "display_data"
    }
   ],
   "source": [
    "fig = px.histogram(vs_cad_basc, x='GRAU_INSTR', color='SAIU', text_auto=True, category_orders = {'GRAU_INSTR' : vs_cad_basc['GRAU_INSTR'].cat.categories})\n",
    "fig.show()"
   ]
  },
  {
   "cell_type": "code",
   "execution_count": 23,
   "metadata": {},
   "outputs": [
    {
     "data": {
      "application/vnd.plotly.v1+json": {
       "config": {
        "plotlyServerURL": "https://plot.ly"
       },
       "data": [
        {
         "alignmentgroup": "True",
         "bingroup": "x",
         "hovertemplate": "SAIU=1<br>FAIXA_QTDE_CSO=%{x}<br>count=%{y}<extra></extra>",
         "legendgroup": "1",
         "marker": {
          "color": "#636efa",
          "pattern": {
           "shape": ""
          }
         },
         "name": "1",
         "offsetgroup": "1",
         "orientation": "v",
         "showlegend": true,
         "texttemplate": "%{value}",
         "type": "histogram",
         "x": [
          "até 100",
          "até 100",
          "200 a 300",
          "100 a 200",
          "100 a 200",
          "300 a 400",
          "300 a 400",
          "200 a 300",
          "100 a 200",
          "100 a 200",
          "200 a 300",
          "200 a 300",
          "100 a 200",
          "100 a 200",
          "100 a 200",
          "300 a 400",
          "100 a 200",
          "até 100",
          "200 a 300",
          "100 a 200",
          "até 100",
          "100 a 200",
          "200 a 300",
          "100 a 200",
          "200 a 300",
          "até 100",
          "100 a 200",
          "100 a 200",
          "200 a 300",
          "200 a 300",
          "300 a 400",
          "100 a 200",
          "100 a 200",
          "300 a 400",
          "300 a 400",
          "200 a 300",
          "100 a 200",
          "+ de 400",
          "200 a 300",
          "200 a 300",
          "100 a 200",
          "200 a 300",
          "200 a 300",
          "100 a 200",
          "até 100",
          "300 a 400",
          "100 a 200",
          "200 a 300",
          "até 100",
          "300 a 400",
          "300 a 400",
          "100 a 200",
          "200 a 300",
          "200 a 300",
          "até 100",
          "100 a 200",
          "até 100",
          "200 a 300",
          "300 a 400",
          "100 a 200",
          "300 a 400",
          "100 a 200",
          "300 a 400",
          "100 a 200",
          "100 a 200",
          "100 a 200",
          "100 a 200",
          "300 a 400",
          "200 a 300",
          "100 a 200",
          "300 a 400",
          "300 a 400",
          "100 a 200",
          "100 a 200",
          "100 a 200",
          "300 a 400",
          "100 a 200",
          "200 a 300",
          "100 a 200",
          "até 100",
          "200 a 300",
          "100 a 200",
          "100 a 200",
          "100 a 200",
          "200 a 300",
          "300 a 400",
          "100 a 200",
          "100 a 200",
          "100 a 200",
          "100 a 200",
          "até 100",
          "200 a 300",
          "100 a 200",
          "300 a 400",
          "100 a 200",
          "100 a 200",
          "200 a 300",
          "até 100",
          "100 a 200",
          "300 a 400",
          "100 a 200",
          "100 a 200",
          "até 100",
          "100 a 200",
          "100 a 200",
          "300 a 400",
          "300 a 400",
          "100 a 200",
          "300 a 400",
          "200 a 300",
          "200 a 300",
          "100 a 200",
          "200 a 300",
          "100 a 200",
          "100 a 200",
          "100 a 200",
          "até 100",
          "200 a 300",
          "200 a 300",
          "100 a 200",
          "100 a 200",
          "+ de 400",
          "até 100",
          "100 a 200",
          "100 a 200",
          "200 a 300",
          "+ de 400",
          "100 a 200",
          "100 a 200",
          "200 a 300",
          "100 a 200",
          "100 a 200",
          "200 a 300",
          "200 a 300",
          "100 a 200",
          "100 a 200",
          "100 a 200",
          "200 a 300",
          "200 a 300",
          "até 100",
          "200 a 300",
          "200 a 300",
          "200 a 300",
          "200 a 300",
          "100 a 200",
          "+ de 400",
          "até 100",
          "até 100",
          "200 a 300",
          "200 a 300",
          "100 a 200",
          "200 a 300",
          "100 a 200",
          "100 a 200",
          "200 a 300",
          "100 a 200",
          "200 a 300",
          "200 a 300",
          "100 a 200",
          "300 a 400",
          "200 a 300",
          "100 a 200",
          "100 a 200",
          "100 a 200",
          "200 a 300",
          "até 100",
          "200 a 300",
          "200 a 300",
          "até 100",
          "100 a 200",
          "100 a 200",
          "200 a 300",
          "200 a 300",
          "100 a 200",
          "100 a 200",
          "até 100",
          "100 a 200",
          "300 a 400",
          "200 a 300",
          "100 a 200",
          "100 a 200",
          "100 a 200",
          "até 100",
          "+ de 400",
          "100 a 200",
          "300 a 400",
          "100 a 200",
          "100 a 200",
          "100 a 200",
          "200 a 300",
          "100 a 200",
          "100 a 200",
          "100 a 200",
          "100 a 200"
         ],
         "xaxis": "x",
         "yaxis": "y"
        },
        {
         "alignmentgroup": "True",
         "bingroup": "x",
         "hovertemplate": "SAIU=0<br>FAIXA_QTDE_CSO=%{x}<br>count=%{y}<extra></extra>",
         "legendgroup": "0",
         "marker": {
          "color": "#EF553B",
          "pattern": {
           "shape": ""
          }
         },
         "name": "0",
         "offsetgroup": "0",
         "orientation": "v",
         "showlegend": true,
         "texttemplate": "%{value}",
         "type": "histogram",
         "x": [
          "200 a 300",
          "200 a 300",
          "300 a 400",
          "300 a 400",
          "200 a 300",
          "100 a 200",
          "200 a 300",
          "200 a 300",
          "200 a 300",
          "200 a 300",
          "100 a 200",
          "200 a 300",
          "300 a 400",
          "300 a 400",
          "300 a 400",
          "300 a 400",
          "+ de 400",
          "300 a 400",
          "300 a 400",
          "100 a 200",
          "100 a 200",
          "200 a 300",
          "200 a 300",
          "100 a 200",
          "300 a 400",
          "300 a 400",
          "200 a 300",
          "100 a 200",
          "200 a 300",
          "+ de 400",
          "+ de 400",
          "+ de 400",
          "300 a 400",
          "300 a 400",
          "300 a 400",
          "300 a 400",
          "100 a 200",
          "+ de 400",
          "+ de 400",
          "200 a 300",
          "100 a 200",
          "200 a 300",
          "+ de 400",
          "200 a 300",
          "200 a 300",
          "200 a 300",
          "100 a 200",
          "200 a 300",
          "200 a 300",
          "200 a 300",
          "300 a 400",
          "200 a 300",
          "100 a 200",
          "200 a 300",
          "100 a 200",
          "200 a 300",
          "+ de 400",
          "200 a 300",
          "200 a 300",
          "100 a 200",
          "300 a 400",
          "200 a 300",
          "200 a 300",
          "200 a 300",
          "+ de 400",
          "200 a 300",
          "200 a 300",
          "+ de 400",
          "300 a 400",
          "200 a 300",
          "300 a 400",
          "200 a 300",
          "+ de 400",
          "+ de 400",
          "300 a 400",
          "+ de 400",
          "300 a 400",
          "200 a 300",
          "300 a 400",
          "200 a 300",
          "+ de 400",
          "200 a 300",
          "200 a 300",
          "100 a 200",
          "300 a 400",
          "300 a 400",
          "300 a 400",
          "200 a 300",
          "+ de 400",
          "+ de 400",
          "200 a 300",
          "+ de 400",
          "200 a 300",
          "+ de 400",
          "200 a 300",
          "200 a 300",
          "100 a 200",
          "200 a 300",
          "300 a 400",
          "200 a 300",
          "+ de 400",
          "300 a 400",
          "300 a 400",
          "300 a 400",
          "200 a 300",
          "200 a 300",
          "300 a 400",
          "100 a 200",
          "200 a 300",
          "200 a 300",
          "200 a 300",
          "200 a 300",
          "300 a 400",
          "+ de 400",
          "300 a 400",
          "200 a 300",
          "200 a 300",
          "200 a 300",
          "+ de 400",
          "200 a 300",
          "100 a 200",
          "100 a 200",
          "300 a 400",
          "200 a 300",
          "200 a 300",
          "300 a 400",
          "200 a 300",
          "200 a 300",
          "300 a 400",
          "100 a 200",
          "300 a 400",
          "200 a 300",
          "+ de 400",
          "200 a 300",
          "200 a 300",
          "+ de 400",
          "+ de 400",
          "200 a 300",
          "200 a 300",
          "100 a 200",
          "200 a 300",
          "300 a 400",
          "300 a 400",
          "200 a 300",
          "300 a 400",
          "200 a 300",
          "300 a 400",
          "300 a 400",
          "+ de 400",
          "100 a 200",
          "200 a 300",
          "+ de 400",
          "200 a 300",
          "+ de 400",
          "200 a 300",
          "+ de 400",
          "200 a 300",
          "300 a 400",
          "200 a 300",
          "200 a 300",
          "200 a 300",
          "200 a 300",
          "100 a 200",
          "200 a 300",
          "300 a 400",
          "até 100",
          "200 a 300",
          "100 a 200",
          "200 a 300",
          "300 a 400",
          "+ de 400",
          "300 a 400",
          "+ de 400",
          "200 a 300",
          "300 a 400",
          "200 a 300",
          "200 a 300",
          "200 a 300",
          "300 a 400",
          "200 a 300",
          "+ de 400",
          "200 a 300",
          "200 a 300",
          "+ de 400",
          "200 a 300",
          "+ de 400",
          "200 a 300",
          "100 a 200",
          "+ de 400",
          "200 a 300",
          "100 a 200",
          "200 a 300",
          "100 a 200",
          "+ de 400",
          "+ de 400",
          "200 a 300",
          "200 a 300",
          "200 a 300",
          "200 a 300",
          "200 a 300",
          "+ de 400",
          "300 a 400",
          "100 a 200",
          "100 a 200",
          "200 a 300",
          "200 a 300",
          "200 a 300",
          "300 a 400",
          "300 a 400",
          "200 a 300",
          "300 a 400",
          "200 a 300",
          "300 a 400",
          "200 a 300",
          "100 a 200",
          "+ de 400",
          "200 a 300",
          "200 a 300",
          "200 a 300",
          "200 a 300",
          "100 a 200",
          "300 a 400",
          "100 a 200",
          "300 a 400",
          "200 a 300",
          "300 a 400",
          "300 a 400",
          "200 a 300",
          "100 a 200",
          "200 a 300",
          "+ de 400",
          "200 a 300",
          "100 a 200",
          "100 a 200",
          "+ de 400",
          "300 a 400",
          "200 a 300",
          "300 a 400",
          "100 a 200",
          "100 a 200",
          "200 a 300",
          "200 a 300",
          "300 a 400",
          "300 a 400",
          "+ de 400",
          "200 a 300",
          "+ de 400",
          "+ de 400",
          "+ de 400",
          "+ de 400",
          "300 a 400",
          "200 a 300",
          "200 a 300",
          "+ de 400",
          "100 a 200",
          "200 a 300",
          "100 a 200",
          "200 a 300",
          "300 a 400",
          "100 a 200",
          "300 a 400",
          "300 a 400",
          "100 a 200",
          "300 a 400",
          "200 a 300",
          "+ de 400",
          "200 a 300",
          "200 a 300",
          "200 a 300",
          "200 a 300",
          "300 a 400",
          "100 a 200",
          "200 a 300",
          "200 a 300",
          "300 a 400",
          "300 a 400",
          "100 a 200"
         ],
         "xaxis": "x",
         "yaxis": "y"
        }
       ],
       "layout": {
        "barmode": "relative",
        "legend": {
         "title": {
          "text": "SAIU"
         },
         "tracegroupgap": 0
        },
        "margin": {
         "t": 60
        },
        "template": {
         "data": {
          "bar": [
           {
            "error_x": {
             "color": "#2a3f5f"
            },
            "error_y": {
             "color": "#2a3f5f"
            },
            "marker": {
             "line": {
              "color": "#E5ECF6",
              "width": 0.5
             },
             "pattern": {
              "fillmode": "overlay",
              "size": 10,
              "solidity": 0.2
             }
            },
            "type": "bar"
           }
          ],
          "barpolar": [
           {
            "marker": {
             "line": {
              "color": "#E5ECF6",
              "width": 0.5
             },
             "pattern": {
              "fillmode": "overlay",
              "size": 10,
              "solidity": 0.2
             }
            },
            "type": "barpolar"
           }
          ],
          "carpet": [
           {
            "aaxis": {
             "endlinecolor": "#2a3f5f",
             "gridcolor": "white",
             "linecolor": "white",
             "minorgridcolor": "white",
             "startlinecolor": "#2a3f5f"
            },
            "baxis": {
             "endlinecolor": "#2a3f5f",
             "gridcolor": "white",
             "linecolor": "white",
             "minorgridcolor": "white",
             "startlinecolor": "#2a3f5f"
            },
            "type": "carpet"
           }
          ],
          "choropleth": [
           {
            "colorbar": {
             "outlinewidth": 0,
             "ticks": ""
            },
            "type": "choropleth"
           }
          ],
          "contour": [
           {
            "colorbar": {
             "outlinewidth": 0,
             "ticks": ""
            },
            "colorscale": [
             [
              0,
              "#0d0887"
             ],
             [
              0.1111111111111111,
              "#46039f"
             ],
             [
              0.2222222222222222,
              "#7201a8"
             ],
             [
              0.3333333333333333,
              "#9c179e"
             ],
             [
              0.4444444444444444,
              "#bd3786"
             ],
             [
              0.5555555555555556,
              "#d8576b"
             ],
             [
              0.6666666666666666,
              "#ed7953"
             ],
             [
              0.7777777777777778,
              "#fb9f3a"
             ],
             [
              0.8888888888888888,
              "#fdca26"
             ],
             [
              1,
              "#f0f921"
             ]
            ],
            "type": "contour"
           }
          ],
          "contourcarpet": [
           {
            "colorbar": {
             "outlinewidth": 0,
             "ticks": ""
            },
            "type": "contourcarpet"
           }
          ],
          "heatmap": [
           {
            "colorbar": {
             "outlinewidth": 0,
             "ticks": ""
            },
            "colorscale": [
             [
              0,
              "#0d0887"
             ],
             [
              0.1111111111111111,
              "#46039f"
             ],
             [
              0.2222222222222222,
              "#7201a8"
             ],
             [
              0.3333333333333333,
              "#9c179e"
             ],
             [
              0.4444444444444444,
              "#bd3786"
             ],
             [
              0.5555555555555556,
              "#d8576b"
             ],
             [
              0.6666666666666666,
              "#ed7953"
             ],
             [
              0.7777777777777778,
              "#fb9f3a"
             ],
             [
              0.8888888888888888,
              "#fdca26"
             ],
             [
              1,
              "#f0f921"
             ]
            ],
            "type": "heatmap"
           }
          ],
          "heatmapgl": [
           {
            "colorbar": {
             "outlinewidth": 0,
             "ticks": ""
            },
            "colorscale": [
             [
              0,
              "#0d0887"
             ],
             [
              0.1111111111111111,
              "#46039f"
             ],
             [
              0.2222222222222222,
              "#7201a8"
             ],
             [
              0.3333333333333333,
              "#9c179e"
             ],
             [
              0.4444444444444444,
              "#bd3786"
             ],
             [
              0.5555555555555556,
              "#d8576b"
             ],
             [
              0.6666666666666666,
              "#ed7953"
             ],
             [
              0.7777777777777778,
              "#fb9f3a"
             ],
             [
              0.8888888888888888,
              "#fdca26"
             ],
             [
              1,
              "#f0f921"
             ]
            ],
            "type": "heatmapgl"
           }
          ],
          "histogram": [
           {
            "marker": {
             "pattern": {
              "fillmode": "overlay",
              "size": 10,
              "solidity": 0.2
             }
            },
            "type": "histogram"
           }
          ],
          "histogram2d": [
           {
            "colorbar": {
             "outlinewidth": 0,
             "ticks": ""
            },
            "colorscale": [
             [
              0,
              "#0d0887"
             ],
             [
              0.1111111111111111,
              "#46039f"
             ],
             [
              0.2222222222222222,
              "#7201a8"
             ],
             [
              0.3333333333333333,
              "#9c179e"
             ],
             [
              0.4444444444444444,
              "#bd3786"
             ],
             [
              0.5555555555555556,
              "#d8576b"
             ],
             [
              0.6666666666666666,
              "#ed7953"
             ],
             [
              0.7777777777777778,
              "#fb9f3a"
             ],
             [
              0.8888888888888888,
              "#fdca26"
             ],
             [
              1,
              "#f0f921"
             ]
            ],
            "type": "histogram2d"
           }
          ],
          "histogram2dcontour": [
           {
            "colorbar": {
             "outlinewidth": 0,
             "ticks": ""
            },
            "colorscale": [
             [
              0,
              "#0d0887"
             ],
             [
              0.1111111111111111,
              "#46039f"
             ],
             [
              0.2222222222222222,
              "#7201a8"
             ],
             [
              0.3333333333333333,
              "#9c179e"
             ],
             [
              0.4444444444444444,
              "#bd3786"
             ],
             [
              0.5555555555555556,
              "#d8576b"
             ],
             [
              0.6666666666666666,
              "#ed7953"
             ],
             [
              0.7777777777777778,
              "#fb9f3a"
             ],
             [
              0.8888888888888888,
              "#fdca26"
             ],
             [
              1,
              "#f0f921"
             ]
            ],
            "type": "histogram2dcontour"
           }
          ],
          "mesh3d": [
           {
            "colorbar": {
             "outlinewidth": 0,
             "ticks": ""
            },
            "type": "mesh3d"
           }
          ],
          "parcoords": [
           {
            "line": {
             "colorbar": {
              "outlinewidth": 0,
              "ticks": ""
             }
            },
            "type": "parcoords"
           }
          ],
          "pie": [
           {
            "automargin": true,
            "type": "pie"
           }
          ],
          "scatter": [
           {
            "fillpattern": {
             "fillmode": "overlay",
             "size": 10,
             "solidity": 0.2
            },
            "type": "scatter"
           }
          ],
          "scatter3d": [
           {
            "line": {
             "colorbar": {
              "outlinewidth": 0,
              "ticks": ""
             }
            },
            "marker": {
             "colorbar": {
              "outlinewidth": 0,
              "ticks": ""
             }
            },
            "type": "scatter3d"
           }
          ],
          "scattercarpet": [
           {
            "marker": {
             "colorbar": {
              "outlinewidth": 0,
              "ticks": ""
             }
            },
            "type": "scattercarpet"
           }
          ],
          "scattergeo": [
           {
            "marker": {
             "colorbar": {
              "outlinewidth": 0,
              "ticks": ""
             }
            },
            "type": "scattergeo"
           }
          ],
          "scattergl": [
           {
            "marker": {
             "colorbar": {
              "outlinewidth": 0,
              "ticks": ""
             }
            },
            "type": "scattergl"
           }
          ],
          "scattermapbox": [
           {
            "marker": {
             "colorbar": {
              "outlinewidth": 0,
              "ticks": ""
             }
            },
            "type": "scattermapbox"
           }
          ],
          "scatterpolar": [
           {
            "marker": {
             "colorbar": {
              "outlinewidth": 0,
              "ticks": ""
             }
            },
            "type": "scatterpolar"
           }
          ],
          "scatterpolargl": [
           {
            "marker": {
             "colorbar": {
              "outlinewidth": 0,
              "ticks": ""
             }
            },
            "type": "scatterpolargl"
           }
          ],
          "scatterternary": [
           {
            "marker": {
             "colorbar": {
              "outlinewidth": 0,
              "ticks": ""
             }
            },
            "type": "scatterternary"
           }
          ],
          "surface": [
           {
            "colorbar": {
             "outlinewidth": 0,
             "ticks": ""
            },
            "colorscale": [
             [
              0,
              "#0d0887"
             ],
             [
              0.1111111111111111,
              "#46039f"
             ],
             [
              0.2222222222222222,
              "#7201a8"
             ],
             [
              0.3333333333333333,
              "#9c179e"
             ],
             [
              0.4444444444444444,
              "#bd3786"
             ],
             [
              0.5555555555555556,
              "#d8576b"
             ],
             [
              0.6666666666666666,
              "#ed7953"
             ],
             [
              0.7777777777777778,
              "#fb9f3a"
             ],
             [
              0.8888888888888888,
              "#fdca26"
             ],
             [
              1,
              "#f0f921"
             ]
            ],
            "type": "surface"
           }
          ],
          "table": [
           {
            "cells": {
             "fill": {
              "color": "#EBF0F8"
             },
             "line": {
              "color": "white"
             }
            },
            "header": {
             "fill": {
              "color": "#C8D4E3"
             },
             "line": {
              "color": "white"
             }
            },
            "type": "table"
           }
          ]
         },
         "layout": {
          "annotationdefaults": {
           "arrowcolor": "#2a3f5f",
           "arrowhead": 0,
           "arrowwidth": 1
          },
          "autotypenumbers": "strict",
          "coloraxis": {
           "colorbar": {
            "outlinewidth": 0,
            "ticks": ""
           }
          },
          "colorscale": {
           "diverging": [
            [
             0,
             "#8e0152"
            ],
            [
             0.1,
             "#c51b7d"
            ],
            [
             0.2,
             "#de77ae"
            ],
            [
             0.3,
             "#f1b6da"
            ],
            [
             0.4,
             "#fde0ef"
            ],
            [
             0.5,
             "#f7f7f7"
            ],
            [
             0.6,
             "#e6f5d0"
            ],
            [
             0.7,
             "#b8e186"
            ],
            [
             0.8,
             "#7fbc41"
            ],
            [
             0.9,
             "#4d9221"
            ],
            [
             1,
             "#276419"
            ]
           ],
           "sequential": [
            [
             0,
             "#0d0887"
            ],
            [
             0.1111111111111111,
             "#46039f"
            ],
            [
             0.2222222222222222,
             "#7201a8"
            ],
            [
             0.3333333333333333,
             "#9c179e"
            ],
            [
             0.4444444444444444,
             "#bd3786"
            ],
            [
             0.5555555555555556,
             "#d8576b"
            ],
            [
             0.6666666666666666,
             "#ed7953"
            ],
            [
             0.7777777777777778,
             "#fb9f3a"
            ],
            [
             0.8888888888888888,
             "#fdca26"
            ],
            [
             1,
             "#f0f921"
            ]
           ],
           "sequentialminus": [
            [
             0,
             "#0d0887"
            ],
            [
             0.1111111111111111,
             "#46039f"
            ],
            [
             0.2222222222222222,
             "#7201a8"
            ],
            [
             0.3333333333333333,
             "#9c179e"
            ],
            [
             0.4444444444444444,
             "#bd3786"
            ],
            [
             0.5555555555555556,
             "#d8576b"
            ],
            [
             0.6666666666666666,
             "#ed7953"
            ],
            [
             0.7777777777777778,
             "#fb9f3a"
            ],
            [
             0.8888888888888888,
             "#fdca26"
            ],
            [
             1,
             "#f0f921"
            ]
           ]
          },
          "colorway": [
           "#636efa",
           "#EF553B",
           "#00cc96",
           "#ab63fa",
           "#FFA15A",
           "#19d3f3",
           "#FF6692",
           "#B6E880",
           "#FF97FF",
           "#FECB52"
          ],
          "font": {
           "color": "#2a3f5f"
          },
          "geo": {
           "bgcolor": "white",
           "lakecolor": "white",
           "landcolor": "#E5ECF6",
           "showlakes": true,
           "showland": true,
           "subunitcolor": "white"
          },
          "hoverlabel": {
           "align": "left"
          },
          "hovermode": "closest",
          "mapbox": {
           "style": "light"
          },
          "paper_bgcolor": "white",
          "plot_bgcolor": "#E5ECF6",
          "polar": {
           "angularaxis": {
            "gridcolor": "white",
            "linecolor": "white",
            "ticks": ""
           },
           "bgcolor": "#E5ECF6",
           "radialaxis": {
            "gridcolor": "white",
            "linecolor": "white",
            "ticks": ""
           }
          },
          "scene": {
           "xaxis": {
            "backgroundcolor": "#E5ECF6",
            "gridcolor": "white",
            "gridwidth": 2,
            "linecolor": "white",
            "showbackground": true,
            "ticks": "",
            "zerolinecolor": "white"
           },
           "yaxis": {
            "backgroundcolor": "#E5ECF6",
            "gridcolor": "white",
            "gridwidth": 2,
            "linecolor": "white",
            "showbackground": true,
            "ticks": "",
            "zerolinecolor": "white"
           },
           "zaxis": {
            "backgroundcolor": "#E5ECF6",
            "gridcolor": "white",
            "gridwidth": 2,
            "linecolor": "white",
            "showbackground": true,
            "ticks": "",
            "zerolinecolor": "white"
           }
          },
          "shapedefaults": {
           "line": {
            "color": "#2a3f5f"
           }
          },
          "ternary": {
           "aaxis": {
            "gridcolor": "white",
            "linecolor": "white",
            "ticks": ""
           },
           "baxis": {
            "gridcolor": "white",
            "linecolor": "white",
            "ticks": ""
           },
           "bgcolor": "#E5ECF6",
           "caxis": {
            "gridcolor": "white",
            "linecolor": "white",
            "ticks": ""
           }
          },
          "title": {
           "x": 0.05
          },
          "xaxis": {
           "automargin": true,
           "gridcolor": "white",
           "linecolor": "white",
           "ticks": "",
           "title": {
            "standoff": 15
           },
           "zerolinecolor": "white",
           "zerolinewidth": 2
          },
          "yaxis": {
           "automargin": true,
           "gridcolor": "white",
           "linecolor": "white",
           "ticks": "",
           "title": {
            "standoff": 15
           },
           "zerolinecolor": "white",
           "zerolinewidth": 2
          }
         }
        },
        "xaxis": {
         "anchor": "y",
         "categoryarray": [
          "até 100",
          "100 a 200",
          "200 a 300",
          "300 a 400",
          "+ de 400"
         ],
         "categoryorder": "array",
         "domain": [
          0,
          1
         ],
         "title": {
          "text": "FAIXA_QTDE_CSO"
         }
        },
        "yaxis": {
         "anchor": "x",
         "domain": [
          0,
          1
         ],
         "title": {
          "text": "count"
         }
        }
       }
      }
     },
     "metadata": {},
     "output_type": "display_data"
    }
   ],
   "source": [
    "fig = px.histogram(vs_cad_basc, x='FAIXA_QTDE_CSO', color='SAIU', text_auto=True, category_orders = {'FAIXA_QTDE_CSO' : vs_cad_basc['FAIXA_QTDE_CSO'].cat.categories})\n",
    "fig.show()"
   ]
  },
  {
   "cell_type": "code",
   "execution_count": 24,
   "metadata": {},
   "outputs": [
    {
     "data": {
      "application/vnd.plotly.v1+json": {
       "config": {
        "plotlyServerURL": "https://plot.ly"
       },
       "data": [
        {
         "alignmentgroup": "True",
         "bingroup": "x",
         "hovertemplate": "SAIU=1<br>SALARIO_MEDIO=%{x}<br>count=%{y}<extra></extra>",
         "legendgroup": "1",
         "marker": {
          "color": "#636efa",
          "pattern": {
           "shape": ""
          }
         },
         "name": "1",
         "offsetgroup": "1",
         "orientation": "v",
         "showlegend": true,
         "type": "histogram",
         "x": [
          9413.850008746356,
          13688.28,
          9906.879744354495,
          11695.967008130081,
          4146.03,
          13156.062390252644,
          14927.216663425701,
          13698.366704493874,
          11047.208996122958,
          3944.434308733087,
          14070.926688420348,
          20150.814182242986,
          12602.353675154853,
          14337.517941290074,
          16471.92760844821,
          13583.64909844878,
          11336.998215234722,
          null,
          21567.84970768716,
          8571.562395148327,
          24612.247159891598,
          12163.135081485441,
          9522.823820379599,
          10006.294396718866,
          10010.02187983614,
          30888.135421725245,
          23232.997705596114,
          23483.42147633839,
          11205.5497917501,
          10924.953144240746,
          6513.44110863223,
          15203.04466401311,
          22536.96662283557,
          7908.24580478469,
          12912.159180551349,
          12588.7322174367,
          10134.81631372549,
          9143.582994663822,
          13650.3204003221,
          8062.608319934035,
          11903.148007215255,
          7928.100847663362,
          10289.30695636026,
          9776.67993132205,
          16285.42402284961,
          15291.40973690128,
          9400.33054503367,
          8237.260146128352,
          14886.685919525067,
          14716.1959375,
          9363.401942464357,
          23075.119326453518,
          9612.965882606819,
          8611.62616972477,
          11543.427716894976,
          11697.982765604862,
          17216.934262144823,
          10206.042461948251,
          14333.049392523366,
          10004.568459302325,
          10718.311551617557,
          14538.873604747445,
          10438.294554039874,
          15933.735416666666,
          23595.331910662822,
          13664.711160309416,
          8403.821220789687,
          14477.988812937647,
          13076.902759531276,
          10102.79398201439,
          15068.203603581202,
          null,
          13688.28,
          9981.806095158248,
          17886.326896551727,
          16691.99173705302,
          null,
          9882.141894664843,
          13176.429328842914,
          22461.102665184248,
          14233.00378165214,
          11394.4561270617,
          15983.497600401606,
          null,
          13212.908198461131,
          14584.31159626241,
          18735.669796294165,
          null,
          33731.93785591373,
          16626.370091883615,
          20693.410411726665,
          11182.024220247838,
          23748.10748735632,
          18070.203646829614,
          16056.670688188191,
          12041.138518211921,
          10843.198073351903,
          null,
          13651.28133067199,
          null,
          null,
          11399.481881670534,
          12198.121747720365,
          14111.180352617623,
          11869.12978245712,
          12557.089110021023,
          12164.585212061782,
          11538.090733600724,
          7961.736710553384,
          11226.193971758155,
          23385.66304016026,
          null,
          23876.81717443046,
          24094.513963991456,
          18706.64927162523,
          10848.40102991453,
          10544.914473297404,
          null,
          10822.344701310578,
          11716.869016207458,
          11868.459821908129,
          7092.165069699195,
          20716.296171284637,
          13165.229937969927,
          15726.422572335263,
          11371.563216448838,
          13661.377730545877,
          11608.391838037634,
          7956.0943871790205,
          12890.653053892214,
          6283.8286620714025,
          14363.83872701556,
          8745.827781936534,
          9995.019267214928,
          14296.080037786776,
          null,
          21198.35371210809,
          11813.797536078844,
          11880.35163697641,
          10425.779142542047,
          7263.35305882353,
          15611.521203859056,
          9652.93603728202,
          14398.848237055106,
          11213.06120046283,
          11541.840569677714,
          14274.428943785684,
          12783.950211955227,
          10840.755094931485,
          7014.591648515909,
          null,
          8885.288187886683,
          17015.937734841344,
          null,
          8965.95419032108,
          11635.96259066394,
          7252.598233009709,
          10140.67105485232,
          15374.363691559656,
          13351.571303778834,
          14564.706540174595,
          23404.80994851008,
          9114.07695864156,
          16363.733661305581,
          11894.53720274613,
          11231.079982594727,
          7509.0870957446805,
          11114.325703921233,
          28367.338648768095,
          11820.478338952973,
          14859.27827027027,
          null,
          22661.081361114022,
          12481.845799828914,
          13051.714138590203,
          11130.373539891558,
          7439.1448725790015,
          13788.760279541153,
          20717.258982955824,
          9910.853374161563,
          null,
          null,
          null,
          12483.868343280512,
          12301.40982313662,
          16997.42910549259,
          11850.30175368673,
          11801.265436288697,
          10686.769093069308,
          9869.521258076778,
          10608.62329896907,
          11707.17678611602,
          11701.261896280776,
          17562.64351112746
         ],
         "xaxis": "x",
         "yaxis": "y"
        },
        {
         "alignmentgroup": "True",
         "bingroup": "x",
         "hovertemplate": "SAIU=0<br>SALARIO_MEDIO=%{x}<br>count=%{y}<extra></extra>",
         "legendgroup": "0",
         "marker": {
          "color": "#EF553B",
          "pattern": {
           "shape": ""
          }
         },
         "name": "0",
         "offsetgroup": "0",
         "orientation": "v",
         "showlegend": true,
         "type": "histogram",
         "x": [
          14178.574570605188,
          11241.093469014408,
          8264.502935993782,
          10242.625074687949,
          10598.06069853533,
          11243.618435557397,
          12238.838849241749,
          10723.854920141051,
          24011.769088303536,
          12243.777106462305,
          25939.786983087837,
          10682.004076501069,
          13268.106446682252,
          9019.474835063438,
          13405.649615545924,
          null,
          5265.652283663993,
          8462.984080357144,
          9895.267006830883,
          14469.994384042993,
          10913.79683219864,
          10450.748368444643,
          10144.897206778653,
          10923.266820175439,
          5664.098106968486,
          8027.145086302455,
          11588.940382301573,
          23832.540707060063,
          18483.25137733142,
          12925.02692565445,
          10713.155895188696,
          1490.1607300363946,
          10367.560125843282,
          null,
          9983.364411164057,
          9181.533371205398,
          9983.422774473558,
          13526.052144680853,
          7624.844486921528,
          11050.227677018633,
          16622.79337935429,
          10846.870983755884,
          5220.480546848949,
          9899.77895824721,
          17597.995790747715,
          12484.487276516904,
          11799.383425612055,
          8664.986640944167,
          11879.669478703117,
          9770.287749796913,
          null,
          11591.21054061471,
          13742.068120567377,
          7349.972511432229,
          23451.806275923118,
          14886.87146726513,
          9218.971068557921,
          10614.630706550684,
          17182.04182030769,
          11559.035049773756,
          14264.478590931252,
          14497.665905608339,
          12989.399304328123,
          11423.194111010831,
          11504.071180357141,
          null,
          12621.75325633985,
          8586.667561083963,
          11197.379847566575,
          14953.298920698098,
          14491.237708598725,
          8779.388664047152,
          8953.745966639322,
          14553.15354494903,
          null,
          11933.481411713916,
          12284.20296397629,
          12363.973748141856,
          9201.855678932645,
          null,
          12339.955935365213,
          25483.133884224484,
          10811.53889480448,
          12263.679358020096,
          16578.651334357975,
          7138.894150407946,
          7185.493688461538,
          9061.920360132373,
          10535.773016551982,
          9833.545419804217,
          8938.165892029658,
          6069.496774193549,
          10897.7608518318,
          12217.299540993985,
          4915.295714285714,
          9899.576726779444,
          8570.899332970817,
          18264.571739222767,
          12282.290479530255,
          10680.497612941408,
          17708.457537429014,
          9502.328672131149,
          11349.967241461667,
          19800.613284254807,
          4751.197612035851,
          10877.37470214456,
          16383.382229787234,
          10867.173075288807,
          272.82449678800856,
          9344.322802752293,
          8438.549704989155,
          15316.480244284376,
          14900.664098201265,
          14222.969811372712,
          16849.529392775883,
          15398.801481073639,
          7034.377207485465,
          11618.598307019214,
          1438.6788001432665,
          9090.941322154144,
          15575.259308656203,
          14945.715543107646,
          12189.554242480852,
          13334.206189557788,
          12725.501764705883,
          null,
          14247.840592066312,
          10486.29656180771,
          16174.401023669838,
          15373.622725260828,
          11935.63560707138,
          19637.268437657112,
          7343.215718665464,
          10600.188335745297,
          11004.685886562891,
          9116.599283746556,
          5368.38760019084,
          null,
          10801.691940145984,
          52177.45,
          11702.336758474576,
          9613.718708363289,
          11819.453427908178,
          10629.0952125,
          16637.79261815562,
          7865.629379542634,
          13309.130059017294,
          10215.434121037464,
          10833.317957757181,
          10870.483042803284,
          10254.727460392902,
          12564.156148179629,
          11789.816026894865,
          10681.57363016158,
          11998.069239440445,
          5255.914917241379,
          10487.13497323022,
          10686.55755771161,
          11930.226377938518,
          11437.951065105257,
          10305.962341942944,
          8965.543652294213,
          15860.89927927928,
          12960.485256541444,
          22054.665966850825,
          8648.478162711866,
          10558.955626106195,
          11444.11818076253,
          5814.320525446134,
          11537.301411347516,
          10796.831547248183,
          6154.587916363107,
          null,
          14343.182224807331,
          9887.986903760011,
          19732.24320590302,
          14099.837233847284,
          13020.894428677015,
          13034.70041908714,
          15153.998180261711,
          9513.66833402981,
          11284.95166878981,
          9637.613578927634,
          9890.685881498222,
          9376.300665961944,
          8315.743309234756,
          19786.486256810753,
          24823.983410464258,
          6344.635080862534,
          11929.395988861916,
          10216.899714590558,
          7437.078825070158,
          19100.417012536163,
          8407.206354362415,
          9092.282672030125,
          11869.557870268789,
          6633.623351400181,
          14806.104608549103,
          12038.892910203502,
          null,
          8315.585385285154,
          7824.249340720221,
          14099.287321550899,
          8297.571484042552,
          11350.136096125552,
          8570.317065884235,
          9211.540236533958,
          11264.678977536792,
          13221.08461251333,
          15742.440250583988,
          17365.93830483871,
          23327.71814084507,
          null,
          13212.211979530703,
          14839.329797205948,
          null,
          12851.233443596268,
          null,
          17246.851401154203,
          10383.201246430612,
          9808.982607873668,
          16346.964781437746,
          10195.271176144755,
          4224.8887437810945,
          15081.888297976342,
          13301.348414895136,
          16292.616950312406,
          11026.501600431578,
          21641.17600445843,
          8659.556722707914,
          5058.474014379867,
          12893.118316102536,
          15910.138154316272,
          10549.93580070514,
          195.32977395048437,
          10581.62611252654,
          9637.623390758006,
          8593.209355281208,
          17615.136049277826,
          13746.878265682657,
          10929.034191489362,
          13833.866840822957,
          10164.653181875872,
          14220.275766031662,
          8797.81700361011,
          8799.565877691388,
          14611.892115213524,
          6049.559369369369,
          null,
          9570.449544341009,
          15066.18969668976,
          15379.941514798076,
          11933.953342816503,
          14764.732865682796,
          11508.422287097692,
          13213.380717108977,
          24183.046622769754,
          12325.533684497817,
          9857.68857177439,
          11794.712889830507,
          7442.918368200837,
          8179.141184885291,
          17444.365178286323,
          23608.99261342282,
          12154.684430627109,
          14341.683393006528,
          11842.746787628867,
          14860.720442270893,
          12083.967996775495,
          12862.615470612991,
          19806.416098507463,
          10437.27248448081,
          10796.324669613774,
          11275.053233417135,
          22891.784061410417,
          null,
          10961.889120219517
         ],
         "xaxis": "x",
         "yaxis": "y"
        }
       ],
       "layout": {
        "barmode": "relative",
        "legend": {
         "title": {
          "text": "SAIU"
         },
         "tracegroupgap": 0
        },
        "margin": {
         "t": 60
        },
        "template": {
         "data": {
          "bar": [
           {
            "error_x": {
             "color": "#2a3f5f"
            },
            "error_y": {
             "color": "#2a3f5f"
            },
            "marker": {
             "line": {
              "color": "#E5ECF6",
              "width": 0.5
             },
             "pattern": {
              "fillmode": "overlay",
              "size": 10,
              "solidity": 0.2
             }
            },
            "type": "bar"
           }
          ],
          "barpolar": [
           {
            "marker": {
             "line": {
              "color": "#E5ECF6",
              "width": 0.5
             },
             "pattern": {
              "fillmode": "overlay",
              "size": 10,
              "solidity": 0.2
             }
            },
            "type": "barpolar"
           }
          ],
          "carpet": [
           {
            "aaxis": {
             "endlinecolor": "#2a3f5f",
             "gridcolor": "white",
             "linecolor": "white",
             "minorgridcolor": "white",
             "startlinecolor": "#2a3f5f"
            },
            "baxis": {
             "endlinecolor": "#2a3f5f",
             "gridcolor": "white",
             "linecolor": "white",
             "minorgridcolor": "white",
             "startlinecolor": "#2a3f5f"
            },
            "type": "carpet"
           }
          ],
          "choropleth": [
           {
            "colorbar": {
             "outlinewidth": 0,
             "ticks": ""
            },
            "type": "choropleth"
           }
          ],
          "contour": [
           {
            "colorbar": {
             "outlinewidth": 0,
             "ticks": ""
            },
            "colorscale": [
             [
              0,
              "#0d0887"
             ],
             [
              0.1111111111111111,
              "#46039f"
             ],
             [
              0.2222222222222222,
              "#7201a8"
             ],
             [
              0.3333333333333333,
              "#9c179e"
             ],
             [
              0.4444444444444444,
              "#bd3786"
             ],
             [
              0.5555555555555556,
              "#d8576b"
             ],
             [
              0.6666666666666666,
              "#ed7953"
             ],
             [
              0.7777777777777778,
              "#fb9f3a"
             ],
             [
              0.8888888888888888,
              "#fdca26"
             ],
             [
              1,
              "#f0f921"
             ]
            ],
            "type": "contour"
           }
          ],
          "contourcarpet": [
           {
            "colorbar": {
             "outlinewidth": 0,
             "ticks": ""
            },
            "type": "contourcarpet"
           }
          ],
          "heatmap": [
           {
            "colorbar": {
             "outlinewidth": 0,
             "ticks": ""
            },
            "colorscale": [
             [
              0,
              "#0d0887"
             ],
             [
              0.1111111111111111,
              "#46039f"
             ],
             [
              0.2222222222222222,
              "#7201a8"
             ],
             [
              0.3333333333333333,
              "#9c179e"
             ],
             [
              0.4444444444444444,
              "#bd3786"
             ],
             [
              0.5555555555555556,
              "#d8576b"
             ],
             [
              0.6666666666666666,
              "#ed7953"
             ],
             [
              0.7777777777777778,
              "#fb9f3a"
             ],
             [
              0.8888888888888888,
              "#fdca26"
             ],
             [
              1,
              "#f0f921"
             ]
            ],
            "type": "heatmap"
           }
          ],
          "heatmapgl": [
           {
            "colorbar": {
             "outlinewidth": 0,
             "ticks": ""
            },
            "colorscale": [
             [
              0,
              "#0d0887"
             ],
             [
              0.1111111111111111,
              "#46039f"
             ],
             [
              0.2222222222222222,
              "#7201a8"
             ],
             [
              0.3333333333333333,
              "#9c179e"
             ],
             [
              0.4444444444444444,
              "#bd3786"
             ],
             [
              0.5555555555555556,
              "#d8576b"
             ],
             [
              0.6666666666666666,
              "#ed7953"
             ],
             [
              0.7777777777777778,
              "#fb9f3a"
             ],
             [
              0.8888888888888888,
              "#fdca26"
             ],
             [
              1,
              "#f0f921"
             ]
            ],
            "type": "heatmapgl"
           }
          ],
          "histogram": [
           {
            "marker": {
             "pattern": {
              "fillmode": "overlay",
              "size": 10,
              "solidity": 0.2
             }
            },
            "type": "histogram"
           }
          ],
          "histogram2d": [
           {
            "colorbar": {
             "outlinewidth": 0,
             "ticks": ""
            },
            "colorscale": [
             [
              0,
              "#0d0887"
             ],
             [
              0.1111111111111111,
              "#46039f"
             ],
             [
              0.2222222222222222,
              "#7201a8"
             ],
             [
              0.3333333333333333,
              "#9c179e"
             ],
             [
              0.4444444444444444,
              "#bd3786"
             ],
             [
              0.5555555555555556,
              "#d8576b"
             ],
             [
              0.6666666666666666,
              "#ed7953"
             ],
             [
              0.7777777777777778,
              "#fb9f3a"
             ],
             [
              0.8888888888888888,
              "#fdca26"
             ],
             [
              1,
              "#f0f921"
             ]
            ],
            "type": "histogram2d"
           }
          ],
          "histogram2dcontour": [
           {
            "colorbar": {
             "outlinewidth": 0,
             "ticks": ""
            },
            "colorscale": [
             [
              0,
              "#0d0887"
             ],
             [
              0.1111111111111111,
              "#46039f"
             ],
             [
              0.2222222222222222,
              "#7201a8"
             ],
             [
              0.3333333333333333,
              "#9c179e"
             ],
             [
              0.4444444444444444,
              "#bd3786"
             ],
             [
              0.5555555555555556,
              "#d8576b"
             ],
             [
              0.6666666666666666,
              "#ed7953"
             ],
             [
              0.7777777777777778,
              "#fb9f3a"
             ],
             [
              0.8888888888888888,
              "#fdca26"
             ],
             [
              1,
              "#f0f921"
             ]
            ],
            "type": "histogram2dcontour"
           }
          ],
          "mesh3d": [
           {
            "colorbar": {
             "outlinewidth": 0,
             "ticks": ""
            },
            "type": "mesh3d"
           }
          ],
          "parcoords": [
           {
            "line": {
             "colorbar": {
              "outlinewidth": 0,
              "ticks": ""
             }
            },
            "type": "parcoords"
           }
          ],
          "pie": [
           {
            "automargin": true,
            "type": "pie"
           }
          ],
          "scatter": [
           {
            "fillpattern": {
             "fillmode": "overlay",
             "size": 10,
             "solidity": 0.2
            },
            "type": "scatter"
           }
          ],
          "scatter3d": [
           {
            "line": {
             "colorbar": {
              "outlinewidth": 0,
              "ticks": ""
             }
            },
            "marker": {
             "colorbar": {
              "outlinewidth": 0,
              "ticks": ""
             }
            },
            "type": "scatter3d"
           }
          ],
          "scattercarpet": [
           {
            "marker": {
             "colorbar": {
              "outlinewidth": 0,
              "ticks": ""
             }
            },
            "type": "scattercarpet"
           }
          ],
          "scattergeo": [
           {
            "marker": {
             "colorbar": {
              "outlinewidth": 0,
              "ticks": ""
             }
            },
            "type": "scattergeo"
           }
          ],
          "scattergl": [
           {
            "marker": {
             "colorbar": {
              "outlinewidth": 0,
              "ticks": ""
             }
            },
            "type": "scattergl"
           }
          ],
          "scattermapbox": [
           {
            "marker": {
             "colorbar": {
              "outlinewidth": 0,
              "ticks": ""
             }
            },
            "type": "scattermapbox"
           }
          ],
          "scatterpolar": [
           {
            "marker": {
             "colorbar": {
              "outlinewidth": 0,
              "ticks": ""
             }
            },
            "type": "scatterpolar"
           }
          ],
          "scatterpolargl": [
           {
            "marker": {
             "colorbar": {
              "outlinewidth": 0,
              "ticks": ""
             }
            },
            "type": "scatterpolargl"
           }
          ],
          "scatterternary": [
           {
            "marker": {
             "colorbar": {
              "outlinewidth": 0,
              "ticks": ""
             }
            },
            "type": "scatterternary"
           }
          ],
          "surface": [
           {
            "colorbar": {
             "outlinewidth": 0,
             "ticks": ""
            },
            "colorscale": [
             [
              0,
              "#0d0887"
             ],
             [
              0.1111111111111111,
              "#46039f"
             ],
             [
              0.2222222222222222,
              "#7201a8"
             ],
             [
              0.3333333333333333,
              "#9c179e"
             ],
             [
              0.4444444444444444,
              "#bd3786"
             ],
             [
              0.5555555555555556,
              "#d8576b"
             ],
             [
              0.6666666666666666,
              "#ed7953"
             ],
             [
              0.7777777777777778,
              "#fb9f3a"
             ],
             [
              0.8888888888888888,
              "#fdca26"
             ],
             [
              1,
              "#f0f921"
             ]
            ],
            "type": "surface"
           }
          ],
          "table": [
           {
            "cells": {
             "fill": {
              "color": "#EBF0F8"
             },
             "line": {
              "color": "white"
             }
            },
            "header": {
             "fill": {
              "color": "#C8D4E3"
             },
             "line": {
              "color": "white"
             }
            },
            "type": "table"
           }
          ]
         },
         "layout": {
          "annotationdefaults": {
           "arrowcolor": "#2a3f5f",
           "arrowhead": 0,
           "arrowwidth": 1
          },
          "autotypenumbers": "strict",
          "coloraxis": {
           "colorbar": {
            "outlinewidth": 0,
            "ticks": ""
           }
          },
          "colorscale": {
           "diverging": [
            [
             0,
             "#8e0152"
            ],
            [
             0.1,
             "#c51b7d"
            ],
            [
             0.2,
             "#de77ae"
            ],
            [
             0.3,
             "#f1b6da"
            ],
            [
             0.4,
             "#fde0ef"
            ],
            [
             0.5,
             "#f7f7f7"
            ],
            [
             0.6,
             "#e6f5d0"
            ],
            [
             0.7,
             "#b8e186"
            ],
            [
             0.8,
             "#7fbc41"
            ],
            [
             0.9,
             "#4d9221"
            ],
            [
             1,
             "#276419"
            ]
           ],
           "sequential": [
            [
             0,
             "#0d0887"
            ],
            [
             0.1111111111111111,
             "#46039f"
            ],
            [
             0.2222222222222222,
             "#7201a8"
            ],
            [
             0.3333333333333333,
             "#9c179e"
            ],
            [
             0.4444444444444444,
             "#bd3786"
            ],
            [
             0.5555555555555556,
             "#d8576b"
            ],
            [
             0.6666666666666666,
             "#ed7953"
            ],
            [
             0.7777777777777778,
             "#fb9f3a"
            ],
            [
             0.8888888888888888,
             "#fdca26"
            ],
            [
             1,
             "#f0f921"
            ]
           ],
           "sequentialminus": [
            [
             0,
             "#0d0887"
            ],
            [
             0.1111111111111111,
             "#46039f"
            ],
            [
             0.2222222222222222,
             "#7201a8"
            ],
            [
             0.3333333333333333,
             "#9c179e"
            ],
            [
             0.4444444444444444,
             "#bd3786"
            ],
            [
             0.5555555555555556,
             "#d8576b"
            ],
            [
             0.6666666666666666,
             "#ed7953"
            ],
            [
             0.7777777777777778,
             "#fb9f3a"
            ],
            [
             0.8888888888888888,
             "#fdca26"
            ],
            [
             1,
             "#f0f921"
            ]
           ]
          },
          "colorway": [
           "#636efa",
           "#EF553B",
           "#00cc96",
           "#ab63fa",
           "#FFA15A",
           "#19d3f3",
           "#FF6692",
           "#B6E880",
           "#FF97FF",
           "#FECB52"
          ],
          "font": {
           "color": "#2a3f5f"
          },
          "geo": {
           "bgcolor": "white",
           "lakecolor": "white",
           "landcolor": "#E5ECF6",
           "showlakes": true,
           "showland": true,
           "subunitcolor": "white"
          },
          "hoverlabel": {
           "align": "left"
          },
          "hovermode": "closest",
          "mapbox": {
           "style": "light"
          },
          "paper_bgcolor": "white",
          "plot_bgcolor": "#E5ECF6",
          "polar": {
           "angularaxis": {
            "gridcolor": "white",
            "linecolor": "white",
            "ticks": ""
           },
           "bgcolor": "#E5ECF6",
           "radialaxis": {
            "gridcolor": "white",
            "linecolor": "white",
            "ticks": ""
           }
          },
          "scene": {
           "xaxis": {
            "backgroundcolor": "#E5ECF6",
            "gridcolor": "white",
            "gridwidth": 2,
            "linecolor": "white",
            "showbackground": true,
            "ticks": "",
            "zerolinecolor": "white"
           },
           "yaxis": {
            "backgroundcolor": "#E5ECF6",
            "gridcolor": "white",
            "gridwidth": 2,
            "linecolor": "white",
            "showbackground": true,
            "ticks": "",
            "zerolinecolor": "white"
           },
           "zaxis": {
            "backgroundcolor": "#E5ECF6",
            "gridcolor": "white",
            "gridwidth": 2,
            "linecolor": "white",
            "showbackground": true,
            "ticks": "",
            "zerolinecolor": "white"
           }
          },
          "shapedefaults": {
           "line": {
            "color": "#2a3f5f"
           }
          },
          "ternary": {
           "aaxis": {
            "gridcolor": "white",
            "linecolor": "white",
            "ticks": ""
           },
           "baxis": {
            "gridcolor": "white",
            "linecolor": "white",
            "ticks": ""
           },
           "bgcolor": "#E5ECF6",
           "caxis": {
            "gridcolor": "white",
            "linecolor": "white",
            "ticks": ""
           }
          },
          "title": {
           "x": 0.05
          },
          "xaxis": {
           "automargin": true,
           "gridcolor": "white",
           "linecolor": "white",
           "ticks": "",
           "title": {
            "standoff": 15
           },
           "zerolinecolor": "white",
           "zerolinewidth": 2
          },
          "yaxis": {
           "automargin": true,
           "gridcolor": "white",
           "linecolor": "white",
           "ticks": "",
           "title": {
            "standoff": 15
           },
           "zerolinecolor": "white",
           "zerolinewidth": 2
          }
         }
        },
        "xaxis": {
         "anchor": "y",
         "domain": [
          0,
          1
         ],
         "title": {
          "text": "SALARIO_MEDIO"
         }
        },
        "yaxis": {
         "anchor": "x",
         "domain": [
          0,
          1
         ],
         "title": {
          "text": "count"
         }
        }
       }
      }
     },
     "metadata": {},
     "output_type": "display_data"
    }
   ],
   "source": [
    "fig = px.histogram(vs_cad_basc, x='SALARIO_MEDIO', color='SAIU')\n",
    "fig.show()"
   ]
  },
  {
   "cell_type": "code",
   "execution_count": 25,
   "metadata": {},
   "outputs": [
    {
     "name": "stdout",
     "output_type": "stream",
     "text": [
      "<class 'pandas.core.frame.DataFrame'>\n",
      "Index: 471 entries, 02d3df5a38ecda03effbccdbcea229d4 to b3f77303944eca28d4fbc378414cd344\n",
      "Data columns (total 7 columns):\n",
      " #   Column          Non-Null Count  Dtype   \n",
      "---  ------          --------------  -----   \n",
      " 0   EST_CIVIL       471 non-null    category\n",
      " 1   SEXO            471 non-null    category\n",
      " 2   GERACAO         471 non-null    category\n",
      " 3   GRAU_INSTR      471 non-null    category\n",
      " 4   FAIXA_QTDE_CSO  471 non-null    category\n",
      " 5   SALARIO_MEDIO   439 non-null    float64 \n",
      " 6   SAIU            471 non-null    int64   \n",
      "dtypes: category(5), float64(1), int64(1)\n",
      "memory usage: 30.4+ KB\n"
     ]
    }
   ],
   "source": [
    "vs_cad_basc.info()"
   ]
  },
  {
   "cell_type": "code",
   "execution_count": 26,
   "metadata": {},
   "outputs": [],
   "source": [
    "encoder = OneHotEncoder(sparse=False)\n",
    "data1_encoded = encoder.fit_transform(vs_cad_basc[['EST_CIVIL', 'SEXO']])\n",
    "\n",
    "columns1_encoded  = encoder.get_feature_names_out(vs_cad_basc[['EST_CIVIL', 'SEXO']].columns)\n",
    "data1_encoded = pd.DataFrame(data1_encoded, columns=columns1_encoded)\n"
   ]
  },
  {
   "cell_type": "code",
   "execution_count": 27,
   "metadata": {},
   "outputs": [],
   "source": [
    "oe = OrdinalEncoder(categories=[\n",
    "    ['Baby Boomer', 'X', 'Millennials'],\n",
    "    ['ENSINO FUNDAMENTAL', 'ENSINO MEDIO', 'SUPERIOR EM ANDAMENT', 'SUPERIOR GRADUACAO', 'POS-GRADUCAO-ESPEC', 'MESTRADO', 'DOUTORADO'],\n",
    "    ['até 100', '100 a 200', '200 a 300', '300 a 400', '+ de 400']])\n",
    "data2_encoded = oe.fit_transform(vs_cad_basc[['GERACAO', 'GRAU_INSTR', 'FAIXA_QTDE_CSO']])\n",
    "\n",
    "columns2_encoded = oe.get_feature_names_out(vs_cad_basc[['GERACAO', 'GRAU_INSTR', 'FAIXA_QTDE_CSO']].columns)\n",
    "\n",
    "data2_encoded = pd.DataFrame(data2_encoded, columns=columns2_encoded)"
   ]
  },
  {
   "cell_type": "code",
   "execution_count": 36,
   "metadata": {},
   "outputs": [],
   "source": [
    "X = data1_encoded.join(data2_encoded)\n",
    "y = vs_cad_basc.reset_index()['SAIU']\n"
   ]
  },
  {
   "cell_type": "code",
   "execution_count": 38,
   "metadata": {},
   "outputs": [
    {
     "data": {
      "text/html": [
       "<style>#sk-container-id-1 {color: black;background-color: white;}#sk-container-id-1 pre{padding: 0;}#sk-container-id-1 div.sk-toggleable {background-color: white;}#sk-container-id-1 label.sk-toggleable__label {cursor: pointer;display: block;width: 100%;margin-bottom: 0;padding: 0.3em;box-sizing: border-box;text-align: center;}#sk-container-id-1 label.sk-toggleable__label-arrow:before {content: \"▸\";float: left;margin-right: 0.25em;color: #696969;}#sk-container-id-1 label.sk-toggleable__label-arrow:hover:before {color: black;}#sk-container-id-1 div.sk-estimator:hover label.sk-toggleable__label-arrow:before {color: black;}#sk-container-id-1 div.sk-toggleable__content {max-height: 0;max-width: 0;overflow: hidden;text-align: left;background-color: #f0f8ff;}#sk-container-id-1 div.sk-toggleable__content pre {margin: 0.2em;color: black;border-radius: 0.25em;background-color: #f0f8ff;}#sk-container-id-1 input.sk-toggleable__control:checked~div.sk-toggleable__content {max-height: 200px;max-width: 100%;overflow: auto;}#sk-container-id-1 input.sk-toggleable__control:checked~label.sk-toggleable__label-arrow:before {content: \"▾\";}#sk-container-id-1 div.sk-estimator input.sk-toggleable__control:checked~label.sk-toggleable__label {background-color: #d4ebff;}#sk-container-id-1 div.sk-label input.sk-toggleable__control:checked~label.sk-toggleable__label {background-color: #d4ebff;}#sk-container-id-1 input.sk-hidden--visually {border: 0;clip: rect(1px 1px 1px 1px);clip: rect(1px, 1px, 1px, 1px);height: 1px;margin: -1px;overflow: hidden;padding: 0;position: absolute;width: 1px;}#sk-container-id-1 div.sk-estimator {font-family: monospace;background-color: #f0f8ff;border: 1px dotted black;border-radius: 0.25em;box-sizing: border-box;margin-bottom: 0.5em;}#sk-container-id-1 div.sk-estimator:hover {background-color: #d4ebff;}#sk-container-id-1 div.sk-parallel-item::after {content: \"\";width: 100%;border-bottom: 1px solid gray;flex-grow: 1;}#sk-container-id-1 div.sk-label:hover label.sk-toggleable__label {background-color: #d4ebff;}#sk-container-id-1 div.sk-serial::before {content: \"\";position: absolute;border-left: 1px solid gray;box-sizing: border-box;top: 0;bottom: 0;left: 50%;z-index: 0;}#sk-container-id-1 div.sk-serial {display: flex;flex-direction: column;align-items: center;background-color: white;padding-right: 0.2em;padding-left: 0.2em;position: relative;}#sk-container-id-1 div.sk-item {position: relative;z-index: 1;}#sk-container-id-1 div.sk-parallel {display: flex;align-items: stretch;justify-content: center;background-color: white;position: relative;}#sk-container-id-1 div.sk-item::before, #sk-container-id-1 div.sk-parallel-item::before {content: \"\";position: absolute;border-left: 1px solid gray;box-sizing: border-box;top: 0;bottom: 0;left: 50%;z-index: -1;}#sk-container-id-1 div.sk-parallel-item {display: flex;flex-direction: column;z-index: 1;position: relative;background-color: white;}#sk-container-id-1 div.sk-parallel-item:first-child::after {align-self: flex-end;width: 50%;}#sk-container-id-1 div.sk-parallel-item:last-child::after {align-self: flex-start;width: 50%;}#sk-container-id-1 div.sk-parallel-item:only-child::after {width: 0;}#sk-container-id-1 div.sk-dashed-wrapped {border: 1px dashed gray;margin: 0 0.4em 0.5em 0.4em;box-sizing: border-box;padding-bottom: 0.4em;background-color: white;}#sk-container-id-1 div.sk-label label {font-family: monospace;font-weight: bold;display: inline-block;line-height: 1.2em;}#sk-container-id-1 div.sk-label-container {text-align: center;}#sk-container-id-1 div.sk-container {/* jupyter's `normalize.less` sets `[hidden] { display: none; }` but bootstrap.min.css set `[hidden] { display: none !important; }` so we also need the `!important` here to be able to override the default hidden behavior on the sphinx rendered scikit-learn.org. See: https://github.com/scikit-learn/scikit-learn/issues/21755 */display: inline-block !important;position: relative;}#sk-container-id-1 div.sk-text-repr-fallback {display: none;}</style><div id=\"sk-container-id-1\" class=\"sk-top-container\"><div class=\"sk-text-repr-fallback\"><pre>LogisticRegression()</pre><b>In a Jupyter environment, please rerun this cell to show the HTML representation or trust the notebook. <br />On GitHub, the HTML representation is unable to render, please try loading this page with nbviewer.org.</b></div><div class=\"sk-container\" hidden><div class=\"sk-item\"><div class=\"sk-estimator sk-toggleable\"><input class=\"sk-toggleable__control sk-hidden--visually\" id=\"sk-estimator-id-1\" type=\"checkbox\" checked><label for=\"sk-estimator-id-1\" class=\"sk-toggleable__label sk-toggleable__label-arrow\">LogisticRegression</label><div class=\"sk-toggleable__content\"><pre>LogisticRegression()</pre></div></div></div></div></div>"
      ],
      "text/plain": [
       "LogisticRegression()"
      ]
     },
     "execution_count": 38,
     "metadata": {},
     "output_type": "execute_result"
    }
   ],
   "source": [
    "# Vamos dividir os dados em treino e teste\n",
    "X_train, X_test, y_train, y_test = train_test_split(X, y, test_size=0.3, random_state=10)"
   ]
  },
  {
   "cell_type": "code",
   "execution_count": 45,
   "metadata": {},
   "outputs": [
    {
     "name": "stdout",
     "output_type": "stream",
     "text": [
      "Acurácia da regressão logística: 0.732\n"
     ]
    }
   ],
   "source": [
    "# Usando o modelo de regressão logística para treinar e ver a acurácia\n",
    "logreg = LogisticRegression()\n",
    "logreg.fit(X_train, y_train)\n",
    "\n",
    "print('Acurácia da regressão logística: {:.3f}'.format(accuracy_score(y_test, logreg.predict(X_test))))"
   ]
  },
  {
   "cell_type": "code",
   "execution_count": 46,
   "metadata": {},
   "outputs": [
    {
     "name": "stdout",
     "output_type": "stream",
     "text": [
      "Acurácia da Floresta Aleatória: 0.739\n"
     ]
    }
   ],
   "source": [
    "# Mesma coisa para Random Forest\n",
    "rf = RandomForestClassifier()\n",
    "rf.fit(X_train, y_train)\n",
    "\n",
    "print('Acurácia da Floresta Aleatória: {:.3f}'.format(accuracy_score(y_test, rf.predict(X_test))))"
   ]
  },
  {
   "cell_type": "code",
   "execution_count": 47,
   "metadata": {},
   "outputs": [
    {
     "name": "stdout",
     "output_type": "stream",
     "text": [
      "Acurácia da SVM: 0.754\n"
     ]
    }
   ],
   "source": [
    "# Mesma coisa para SVM\n",
    "clf = svm.SVC()\n",
    "clf.fit(X_train, y_train)\n",
    "\n",
    "print('Acurácia da SVM: {:.3f}'.format(accuracy_score(y_test, clf.predict(X_test))))"
   ]
  }
 ],
 "metadata": {
  "kernelspec": {
   "display_name": "Python 3.10.6 ('curso_bb')",
   "language": "python",
   "name": "python3"
  },
  "language_info": {
   "codemirror_mode": {
    "name": "ipython",
    "version": 3
   },
   "file_extension": ".py",
   "mimetype": "text/x-python",
   "name": "python",
   "nbconvert_exporter": "python",
   "pygments_lexer": "ipython3",
   "version": "3.10.6"
  },
  "orig_nbformat": 4,
  "vscode": {
   "interpreter": {
    "hash": "6a2d267691a0db457c711ebc5f91240890e2de99dfb8487764a0123a3ae12028"
   }
  }
 },
 "nbformat": 4,
 "nbformat_minor": 2
}
